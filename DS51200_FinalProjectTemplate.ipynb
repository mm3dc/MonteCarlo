{
 "cells": [
  {
   "cell_type": "markdown",
   "id": "45762487-d33f-486d-8e38-2cdea04e3528",
   "metadata": {},
   "source": [
    "# Final Project Report\n",
    "\n",
    "* Class: DS 5100\n",
    "* Student Name: Maheen Mubashar\n",
    "* Student Net ID: mm3dc\n",
    "* This URL: a URL to the notebook source of this document: \n",
    "https://github.com/mm3dc/MonteCarlo/blob/c4f0883d70997bb36f27f36148320bf44180cb30/DS51200_FinalProjectTemplate.ipynb"
   ]
  },
  {
   "cell_type": "markdown",
   "id": "acf756c1-ecaa-41dc-b6ca-d566eb94560b",
   "metadata": {},
   "source": [
    "# Instructions\n",
    "\n",
    "Follow the instructions in the Final Project isntructions notebook and put evidence of your work in this notebook.\n",
    "\n",
    "Total points for each subsection under **Deliverables** and **Scenarios** are given in parentheses.\n",
    "\n",
    "Breakdowns of points within subsections are specified within subsection instructions as bulleted lists.\n",
    "\n",
    "This project is worth **50 points**."
   ]
  },
  {
   "cell_type": "markdown",
   "id": "89dc7a32-f682-4402-8c1e-b6ccdb3e0e39",
   "metadata": {},
   "source": [
    "# Deliverables"
   ]
  },
  {
   "cell_type": "markdown",
   "id": "d32cb273-9a40-4909-a7ce-51f6e4958d3c",
   "metadata": {},
   "source": [
    "## The Monte Carlo Module (10)\n",
    "\n",
    "- URL included, appropriately named (1).\n",
    "- Includes all three specified classes (3).\n",
    "- Includes at least all 12 specified methods (6; .5 each)."
   ]
  },
  {
   "cell_type": "markdown",
   "id": "f5f3b070-de9e-4de9-bfae-8974d184aa28",
   "metadata": {},
   "source": [
    "Put the URL to your GitHub repo here.\n",
    "\n",
    "Repo URL: https://github.com/mm3dc/MonteCarlo.git"
   ]
  },
  {
   "cell_type": "markdown",
   "id": "162370fb-3729-4c85-b040-8c25b2c966d2",
   "metadata": {},
   "source": [
    "Paste a copyy of your module here.\n",
    "\n",
    "NOTE: Paste as text, not as code. Use triple backticks to wrap your code blocks."
   ]
  },
  {
   "cell_type": "code",
   "execution_count": 7,
   "id": "a0743efc-a785-4b5c-a9e6-b65d4507a67f",
   "metadata": {},
   "outputs": [],
   "source": [
    "'''\n",
    "import pandas as pd\n",
    "import numpy as np\n",
    "\n",
    "class Dice:\n",
    "    \n",
    "    \"\"\"\n",
    "    A class representing a die of N sides or 'faces' and W weights that can be rolled to select a face. By default \n",
    "    all faces have equal weight of 1.0, but can be changed after the object is created. Each side of a die contains a\n",
    "    unique symbol. Symbols may be alphabetic or numeric. The die has one behavior, which is to be rolled one or more times.\n",
    "    \n",
    "    ATTRIBUTES:\n",
    "        faces(np.ndarray): The faces of the die passed as a NumPy array. Could be numeric or strings.\n",
    "        \n",
    "        weights (np.ndarray): The weights for each face, defaults to 1.0 for all faces. Can be changed later.\n",
    "        \n",
    "        _my_die (pd.DataFrame): A private pandas DataFrame that contains faces and their weights.\n",
    "        \n",
    "    METHODS:\n",
    "        __init__(self, face_array): Initializes the Dice object with faces and sets all weights to 1.0.\n",
    "        \n",
    "        change_weight(side, new_weight): Changes the weight of a given face.\n",
    "        \n",
    "        roll_the_die(rolls = 1): Rolls the die a specific number of times, and returns a list of outcomes.\n",
    "            \n",
    "        die_current_state(): Returns a copy of the current state of the die.\n",
    "    \"\"\"\n",
    "    \n",
    "\n",
    "    def __init__ (self, face_array):\n",
    "        \"\"\"\n",
    "        PURPOSE: Initiliaze the Dice object with faces and set all weights to 1.0. \n",
    "        Wieghts can be changed after initialization. \n",
    "        \n",
    "        INPUTS: \n",
    "            face_array(np.ndarray): The faces of the die. Should be an numpy array of distinct values.\n",
    "            \n",
    "        RAISES:\n",
    "            TypeError: If face_array is not a numpy array.\n",
    "            ValueError: If face_array does not have distinct values.\n",
    "        \"\"\"\n",
    "        \n",
    "        #Check that face_array is a numpy array \n",
    "        if type(face_array) is not np.ndarray:                       \n",
    "            raise TypeError (\"Argument should be a numpy array\")    \n",
    "        \n",
    "        \n",
    "        #Check that all values in the array are distinct \n",
    "        if len(np.unique(face_array)) != len(face_array):         \n",
    "            raise ValueError (\"Values should be distinct\")\n",
    "        \n",
    "        self.faces = face_array\n",
    "        self.weights = np.ones(len(face_array))     #Set default weight of 1.0 for each face\n",
    "        \n",
    "        #Save faces and weights in a private data frame with face as index\n",
    "        self._my_die = pd.DataFrame({                   \n",
    "        'faces': self.faces,\n",
    "        'weights': self.weights\n",
    "    },\n",
    "        index = self.faces)\n",
    "        \n",
    "    def change_weight(self, side, new_weight):\n",
    "        \"\"\"\n",
    "        PURPOSE: Change the weight of a given face of the die\n",
    "        \n",
    "        INPUTS:\n",
    "            side (str or int): The face of the die to change the wieght of.\n",
    "            new_weight (int or float): The new weight for the given side.\n",
    "            \n",
    "        RAISES:\n",
    "            IndexError: If the face passed is not in the die array.\n",
    "            TypeError: If new_weight is not an int or float.\n",
    "        \"\"\"\n",
    "        \n",
    "        # Check that side passed is in the die array\n",
    "        if side not in self.faces:\n",
    "            raise IndexError(\"Face passed is not a valid value\")\n",
    "        \n",
    "        type_of_weight = [int, float]     #acceptable types of weights\n",
    "        \n",
    "        # Check that the weight is numeric \n",
    "        if type(new_weight) not in type_of_weight: \n",
    "            try:\n",
    "                new_weight = float(new_weight)               #Check if castable as numeric\n",
    "            except: \n",
    "                raise TypeError(\"New weight should be of type integer or float\")\n",
    "        \n",
    "        \n",
    "        #Change the weight of for the passed side to the new weight\n",
    "        self._my_die.loc[side, 'weights'] = new_weight\n",
    "            \n",
    "            \n",
    "    def roll_the_die(self, rolls = 1):\n",
    "        \"\"\"\n",
    "        PURPOSE: Roll the die and return a Python list of outcomes.\n",
    "        \n",
    "        INPUTS:\n",
    "            rolls (int): The number of times to roll the die. Defaults to 1.\n",
    "        \n",
    "        OUTPUTS: \n",
    "            List: A list of rolled faces (outcomes).\n",
    "        \"\"\"\n",
    "        \n",
    "        results = []       #create list of results\n",
    "        \n",
    "        # Roll the die the specified number of times\n",
    "        \n",
    "        for i in range(rolls):\n",
    "            result = self._my_die.faces.sample(weights = self._my_die.weights, replace = True).values[0]\n",
    "            results.append(result)\n",
    "        \n",
    "        return results                           # what does he mean do not interanlly store the results, don't use self?\n",
    "    \n",
    "    \n",
    "    \n",
    "    def die_current_state(self):\n",
    "        \"\"\"\n",
    "        PURPOSE: Returns a copy of the private die data frame.\n",
    "        \n",
    "        OUTPUTS:\n",
    "            pd.DataFrame: A DataFrame of the die's faces and weights.\n",
    "        \"\"\"\n",
    "        \n",
    "        # Return a copy of the private die data frame\n",
    "        return self._my_die.copy()\n",
    "'''\n",
    "'''\n",
    "import pandas as pd\n",
    "import numpy as np\n",
    "from dieclass import Dice\n",
    "\n",
    "class Game:\n",
    "    \n",
    "    \"\"\"\n",
    "    Class representing a game consisting of rolling one or more similar dice (Die objects) one or more times. \n",
    "    \n",
    "    Each game is initiated with a Python list of one or more dice. Similar dice mean that each die in a given game \n",
    "    has the same number of sides and associated faces, but each die object may have its onw weights. Game objects have \n",
    "    behavior to roll all the dice a given number of times. Game objects only keep the results of their most recent play.\n",
    "    \n",
    "    ATTRIBUTES:\n",
    "        list_of_dice(List): A list of one or more Dice objects that are used in the game. All dice must have the has the same number of sides and associated faces.\n",
    "        \n",
    "        _play_results(pd.DataFrame): A private DataFrame that stores the results of the most recent play in \"wide\" format.\n",
    "    \n",
    "    METHODS:\n",
    "        __int__ (self, dice_list): Initializes a game with a list of Die objects.\n",
    "        \n",
    "        play(self,rolls): Rolls all the dice the specified number of times and saves the result of the play to a private data frame in \"wide\" format.\n",
    "        \n",
    "        show_results(self, form = 'wide'): Returns a copy of the private data frame of results of the most recent play in either \"wide\" or \"narrow\" format.\n",
    "\n",
    "    \n",
    "    \"\"\"\n",
    "    \n",
    "    def __init__(self, dice_list):\n",
    "        \"\"\"\n",
    "        PURPOSE: Takes a single parameter, a list of already instantiated similar dice and initializes a Game object with it.\n",
    "        \n",
    "        INPUTS:\n",
    "            dice_list(List): A list of already instantiated similar dice objects.\n",
    "            \n",
    "        RAISES: \n",
    "            TypeError: If any element in the dice_list is not a Die object.\n",
    "            ValueError: If any dice in the list have different faces.\n",
    "        \"\"\"\n",
    "        \n",
    "        #Check that all elements in dice_list are of class Dice\n",
    "        for d in dice_list:\n",
    "            if (type(d) is not Dice):\n",
    "                raise TypeError (\"All elements in the dice list must be objects of the Die Class\")\n",
    "        \n",
    "        \n",
    "        \n",
    "        faces = [(x.faces) for x in dice_list]      #get faces of all the die in the dice_list\n",
    "       \n",
    "        # Check that all dice have the same faces\n",
    "        for die in dice_list[1:]:                    #start from the second die\n",
    "            if not np.array_equal(die.faces, dice_list[0].faces):             #comparing to the first die #*  \n",
    "                raise ValueError(\"All dice must have the same faces.\")\n",
    "           \n",
    "        \n",
    "        #* from: https://stackoverflow.com/questions/10580676/comparing-two-numpy-arrays-for-equality-element-wise\n",
    "        \n",
    "        \n",
    "        #Initialize the list of dice using the given parameter\n",
    "        self.list_of_dice = dice_list\n",
    "    \n",
    "    \n",
    "    def play(self,rolls):\n",
    "        \"\"\"\n",
    "        PURPOSE: Simulates playing the game by rolling all dice the specified number of times. Saves results of \n",
    "        the play in a private DataFrame (\"_play_results\") in wide format.\n",
    "        \n",
    "        INPUTS:\n",
    "            rolls (int): The number of times to roll the  dice.\n",
    "            \n",
    "        \n",
    "        \"\"\"\n",
    "        \n",
    "        \n",
    "        outcomes = {}\n",
    "        \n",
    "        \n",
    "        # Rolls each die and store the results\n",
    "        for i in range(len(self.list_of_dice)):\n",
    "            die = self.list_of_dice[i]\n",
    "            outcomes[i] = die.roll_the_die(rolls)\n",
    "\n",
    "        \n",
    "        # Save the results of the play to a private data frame in wide format by defualt\n",
    "        self._play_results = pd.DataFrame(outcomes)\n",
    "        \n",
    "        self._play_results.index = [i+1 for i in range(len(self._play_results.index))]\n",
    "        \n",
    "        self._play_results.columns = [i+1 for i in range(len(self._play_results.columns))]\n",
    "        \n",
    "        self._play_results.index.name = 'rolls'\n",
    "        \n",
    "        self._play_results.columns.name = 'die'\n",
    "    \n",
    "    \n",
    "    def show_results(self, form = \"wide\"):\n",
    "        \"\"\"\n",
    "        PURPOSE: Returns a copy of the private play data frame to show the user the results of the most recent play in either \"wide\" or \"narrow\" format.\n",
    "        \n",
    "        INPUTS: \n",
    "            form (str): The format (\"Wide\" or \"Narrow\") to return the data frame in. Defaults to wide. \n",
    "        \n",
    "            \n",
    "        OUTPUTS:\n",
    "            pd.DataFrame: A DataFrame of the results of the most recent play in the requested format.\n",
    "            \n",
    "            \n",
    "        RAISES:\n",
    "            ValueError: If the user passes an invalid option for form other than \"narrow\" or \"wide\".\n",
    "            \n",
    "        \"\"\"\n",
    "        \n",
    "        # Check if play_results has been initialized by checking for _play_results      \n",
    "        if not hasattr(self, '_play_results'): \n",
    "            raise Error(\"The play method must be called before showing results.\")\n",
    "            \n",
    "            #from https://stackoverflow.com/questions/610883/how-to-check-if-an-object-has-an-attribute\n",
    "        \n",
    "        \n",
    "        if form == \"wide\":\n",
    "            return self._play_results.copy()                    #Return a copy of the private play data frame in wide format\n",
    "        elif form == \"narrow\": \n",
    "            #Convert the data frame to narrow format\n",
    "            narrow_df = self._play_results.stack().reset_index().set_index(['rolls', 'die'])     \n",
    "            narrow_df.columns = ['outcomes']\n",
    "            return narrow_df.copy()                             #Returns a copy of the private play data frame in narrow format                  \n",
    "        else:\n",
    "            raise ValueError(\"Invalid format. Please choose either 'wide' or 'narrow'.\")\n",
    "                                                                    \n",
    "'''\n",
    "'''\n",
    "import pandas as pd\n",
    "import numpy as np\n",
    "import random\n",
    "\n",
    "from dieclass import Dice\n",
    "\n",
    "from gameclass import Game\n",
    "\n",
    "\n",
    "class Analyzer:\n",
    "    \"\"\"\n",
    "    An Analyzer object takes the results of a single game and computes various descriptive statistical properties about it.\n",
    "    \n",
    "    ATTRIBUTES:\n",
    "        game(Game): A game object based on the given parameter.        \n",
    " \n",
    "    METHODS:\n",
    "        __init__ (self, game_object): Initializes the given game object.\n",
    "        \n",
    "        jackpot (self): Computes how many times the game resulted in a jackpot. Returns an integer for the number of jackpots.\n",
    "        \n",
    "        face_count (self): Computes how many times a given face is rolled in each event. Returns a data frame of results.\n",
    "        \n",
    "        combo_count (self): Computes the distinct combinations of faces rolled, along with their counts. Returns a data frame of results.\n",
    "        \n",
    "        permutation_count (self): Computes the distinct permutations of faces rolled, along with their counts. Returns a data frame of results.\n",
    "    \n",
    "    \"\"\"\n",
    "    \n",
    "    def __init__(self, game_object):\n",
    "        \"\"\"\n",
    "        PURPOSE: Takes a game object as its input parameter and initializes it.\n",
    "        \n",
    "        INPUTS: \n",
    "            game_object(Game): A game object.\n",
    "        \n",
    "        RAISES:\n",
    "            ValueError: If the passed value is not a Game object.\n",
    "        \n",
    "        \"\"\"\n",
    "        if type(game_object) is not Game:\n",
    "            raise ValueError (\"Passed object is not a game object\")\n",
    "        \n",
    "        self.game = game_object\n",
    "        \n",
    "        \n",
    "    def jackpot(self):\n",
    "        \"\"\"\n",
    "        PURPOSE:\n",
    "            Computes how many times the game resulted in a jackpot. A jackpot is a result in which all faces are the same, e.g. all ones for a six-sided die.\n",
    "\n",
    "\n",
    "        OUTPUTS:\n",
    "            Int: An integer for the number of jackpots.\n",
    "           \n",
    "            \n",
    "        \"\"\"\n",
    "        \n",
    "        if not hasattr(self.game, '_play_results') or self.game._play_results is None:\n",
    "            raise ValueError(\"The game has not been played yet. Please call the play method first.\")\n",
    "\n",
    "        \n",
    "        \n",
    "        jackpot = 0 \n",
    "        \n",
    "        # Iterate through each roll and check if the faces are all the same, indicating a jackpot       \n",
    "        for index, row in self.game._play_results.iterrows():                       #* \n",
    "            if (len(np.unique(row.values)) == 1):      \n",
    "                jackpot +=1\n",
    "        \n",
    "        return jackpot       \n",
    "    \n",
    "    #* from https://stackoverflow.com/questions/16476924/how-can-i-iterate-over-rows-in-a-pandas-dataframe\n",
    "    \n",
    "    def face_count(self):\n",
    "        \"\"\"\n",
    "        PURPOSE:\n",
    "            Computes how many times a given face is rolled in each event. \n",
    "        \n",
    "        \n",
    "        OUTPUTS: \n",
    "          pd.DataFrame: A Data Frame of the face counts. The data frame has an index of the roll number, face values as columns, and count values in the cells.   \n",
    "        \n",
    "        \"\"\"\n",
    "       \n",
    "    \n",
    "        if not hasattr(self.game, '_play_results') or self.game._play_results is None:\n",
    "            raise ValueError(\"The game has not been played yet. Please call the play method first.\")\n",
    "\n",
    "        \n",
    "        counts = self.game._play_results.stack().groupby('rolls').value_counts().unstack()\n",
    "        counts = counts.fillna(0)\n",
    "        counts.columns.name = \"face values\"\n",
    "        face_num = len(self.game.list_of_dice[0].faces)            #since game objects require all dice have the same number of faces                                             \n",
    "        counts = counts.reindex(columns = range(1,int(face_num)+1), fill_value = 0.0)\n",
    "        return counts\n",
    "        \n",
    "   \n",
    "    def combo_count(self): \n",
    "        \"\"\"\n",
    "        PURPOSE:\n",
    "            Computes the distinct combinations of faces rolled, along with their counts. Combinations are order-independent and may contain repetitions.\n",
    "            \n",
    "        \n",
    "        OUTPUTS:\n",
    "            pd.DataFrame: A data frame of the count of order-independent combinations. \n",
    "            \n",
    "        \n",
    "        \"\"\"\n",
    "            \n",
    "            \n",
    "        if not hasattr(self.game, '_play_results') or self.game._play_results is None:\n",
    "            raise ValueError(\"The game has not been played yet. Please call the play method first.\")\n",
    "\n",
    "        \n",
    "        \n",
    "        combos = [*self.game._play_results.itertuples(index = False, name = None)]   #*\n",
    "        combos = [tuple(sorted(i)) for i in combos]                                            #turning all combos into tuples \n",
    "        combo_df = pd.DataFrame(combos)\n",
    "        combo_df.columns = combo_df.columns +1\n",
    "        combo_df = combo_df.groupby(combo_df.columns.tolist(), as_index = False).size()\n",
    "        combo_df.rename(columns={'size': 'Count'}, inplace=True)\n",
    "        combo_df = combo_df.set_index(combo_df.columns[:-1].tolist())\n",
    "        \n",
    "        \n",
    "        return combo_df\n",
    "\n",
    "      #* from https://stackoverflow.com/questions/55976283/how-to-get-data-from-rows-into-tuples\n",
    "\n",
    "    def permutation_count(self):\n",
    "        \"\"\"\n",
    "        PURPOSE:\n",
    "            Computes the distinct permutations of faces rolled, along with their counts. Permutations are order-dependent and may contain repetitions.\n",
    "\n",
    "\n",
    "        OUTPUTS:\n",
    "            pd.DataFrame: A data frame of counts of permutations.\n",
    "        \n",
    "        \"\"\"\n",
    "        \n",
    "        if not hasattr(self.game, '_play_results') or self.game._play_results is None:\n",
    "            raise ValueError(\"The game has not been played yet. Please call the play method first.\")\n",
    "\n",
    "        \n",
    "        perm_tuples = [*self.game._play_results.itertuples(index=False, name=None)]                    #turning combos into tuples \n",
    "        perm_counts_df = pd.DataFrame(perm_tuples)\n",
    "        perm_counts_df.columns = perm_counts_df.columns +1\n",
    "        perm_counts_df = perm_counts_df.groupby(perm_counts_df.columns.tolist(), as_index = False).size()\n",
    "        perm_counts_df.rename(columns={'size': 'Count'}, inplace=True)\n",
    "        perm_counts_df = perm_counts_df.set_index(perm_counts_df.columns[:-1].tolist())\n",
    "        \n",
    "        return perm_counts_df\n",
    "        \n",
    "'''"
   ]
  },
  {
   "cell_type": "markdown",
   "id": "6377727a-8f0a-491e-9f1c-d9dc225edd35",
   "metadata": {},
   "source": [
    "## Unitest Module (2)\n",
    "\n",
    "Paste a copy of your test module below.\n",
    "\n",
    "NOTE: Paste as text, not as code. Use triple backticks to wrap your code blocks.\n",
    "\n",
    "- All methods have at least one test method (1).\n",
    "- Each method employs one of Unittest's Assert methods (1)."
   ]
  },
  {
   "cell_type": "code",
   "execution_count": 2,
   "id": "14b878d8-258b-4cf2-ad88-b8ee90d43977",
   "metadata": {},
   "outputs": [],
   "source": [
    "'''\n",
    "import unittest\n",
    "import pandas as pd\n",
    "import numpy as np\n",
    "\n",
    "from dieclass import Dice\n",
    "\n",
    "from gameclass import Game\n",
    "\n",
    "from analyzerclass import Analyzer\n",
    "\n",
    "class DieGameTestSuite(unittest.TestCase):\n",
    "    \n",
    "    \n",
    "    def test_1_die_init(self): \n",
    "        #create a die and test that it has been correctly created \n",
    "        faces = np.array([1,2,3,4])\n",
    "        die1 = Dice(faces)\n",
    "        die1_faces = die1._my_die.faces\n",
    "        self.assertTrue((die1_faces == faces).all())\n",
    "    \n",
    "    def test_2_change_weight(self):\n",
    "        # create a die and change the weight of one of its faces. Test if the weight has been changed\n",
    "        die2 = Dice(np.array([1,2,3,4,5,6]))\n",
    "        side = 6\n",
    "        new_weight = 3.0\n",
    "        die2.change_weight(side, new_weight)\n",
    "        self.assertEqual(die2._my_die.loc[side,'weights'], new_weight)\n",
    "    \n",
    "    def test_3_roll_the_die(self):\n",
    "        # create a die and roll it. Test if it is rolled the correct amount of times and if the result is a list\n",
    "        die3 = Dice(np.array([1,2,3,4,5,6]))\n",
    "        rolls = 4\n",
    "        results = die3.roll_the_die(rolls)\n",
    "        self.assertEqual(len(results),rolls)\n",
    "        self.assertEqual(type(results),list)          \n",
    "    \n",
    "    def test_4_die_current_state(self):                                              \n",
    "        # create a die and test whether its current state matches the initialized state\n",
    "        die4 = Dice(np.array([1,2,3,4,5,6]))\n",
    "        current_state = die4.die_current_state()\n",
    "        initialized_state = die4._my_die                         \n",
    "        self.assertTrue(current_state.equals(initialized_state))\n",
    "     \n",
    "    def test_5_game_init(self):\n",
    "        #create a game object and test that it was correctly initialized\n",
    "        faces = np.array([1,2,3,4,5,6])\n",
    "        d1 = Dice(faces)\n",
    "        d2 = Dice(faces)\n",
    "        d3 = Dice(faces)\n",
    "        game1 = Game([d1,d2,d3])\n",
    "        self.assertTrue((game1.list_of_dice[0].faces == faces).all())\n",
    "           \n",
    "    def test_6_play(self):  \n",
    "        # create a game object and play. Test if the results are correctly stored\n",
    "        d1 = Dice(np.array([1,2,3,4,5,6]))\n",
    "        d2 = Dice(np.array([1,2,3,4,5,6]))\n",
    "        d3 = Dice(np.array([1,2,3,4,5,6]))\n",
    "        game2 = Game([d1,d2,d3])\n",
    "        dice_num = len(game2.list_of_dice)\n",
    "        rolls = 4\n",
    "        game2.play(rolls)\n",
    "        self.assertEqual(game2._play_results.shape, (rolls, dice_num))\n",
    "        \n",
    "    def test_7_show_results(self):\n",
    "        # create a game object and play. Test if the show results data frame is correctly formatted for narrow form\n",
    "        d1 = Dice(np.array([1,2,3,4,5,6]))\n",
    "        d2 = Dice(np.array([1,2,3,4,5,6]))\n",
    "        d3 = Dice(np.array([1,2,3,4,5,6]))\n",
    "        game3 = Game([d1,d2,d3])\n",
    "        rolls = 4\n",
    "        game3.play(rolls)\n",
    "        narrow_results = game3.show_results('narrow')\n",
    "        narrow_form = (rolls*len(game3.list_of_dice),1)\n",
    "        self.assertEqual(narrow_results.shape, narrow_form)       #check that the returned results in narrow form has the expected shape\n",
    "        \n",
    "     \n",
    "    def test_8_analyzer_init(self):\n",
    "        #create an analyzer object and test whether the raise statement is raising the correct exception\n",
    "        d1 = Dice(np.array([1,2,3,4,5,6]))\n",
    "        d2 = Dice(np.array([1,2,3,4,5,6]))\n",
    "        d3 = Dice(np.array([1,2,3,4,5,6]))\n",
    "        d4 = Dice(np.array([1,2,3,4,5,6]))\n",
    "        game4 = Game([d1,d2,d3,d4])\n",
    "        #analyzer1 = Analyzer(d4)\n",
    "        self.assertRaises(ValueError, Analyzer, d4)\n",
    "        \n",
    "    def test_9_jackpot(self):\n",
    "        #create an analyzer object. Test if the number of jackpots meet the expected number of jackpots\n",
    "        d1 = Dice(np.array([1,2,3,4,5,6]))\n",
    "        d2 = Dice(np.array([1,2,3,4,5,6]))\n",
    "        d3 = Dice(np.array([1,2,3,4,5,6]))\n",
    "        d4 = Dice(np.array([1,2,3,4,5,6]))\n",
    "        game5 = Game([d1,d2,d3,d4])\n",
    "        rolls = 3\n",
    "        game5.play(rolls)\n",
    "        game5._play_results.iloc[1] = [2,2,2,2]          #force a jackpot\n",
    "        analyzer2 = Analyzer(game5)\n",
    "        num_jackpot = analyzer2.jackpot() \n",
    "        self.assertTrue(num_jackpot >=1)     #test that at least one jackpot is counted -- the forced one\n",
    "    \n",
    "    def test_10_face_count(self):\n",
    "        # create an analyzer object. Test that the face_count returns a data frame of correct shape\n",
    "        d1 = Dice(np.array([1,2,3,4,5,6]))\n",
    "        d2 = Dice(np.array([1,2,3,4,5,6]))\n",
    "        d3 = Dice(np.array([1,2,3,4,5,6]))\n",
    "        d4 = Dice(np.array([1,2,3,4,5,6]))\n",
    "        game6 = Game([d1,d2,d3,d4])\n",
    "        rolls = 3\n",
    "        game6.play(rolls)\n",
    "        face_num = len(d1.faces)\n",
    "        analyzer3 = Analyzer(game6)\n",
    "        face_counts = analyzer3.face_count() \n",
    "        self.assertEqual(type(face_counts), pd.DataFrame)\n",
    "        self.assertEqual(face_counts.shape, (rolls,face_num))      \n",
    "        \n",
    "    def test_11_combo_count(self):\n",
    "        # create an analyzer object. Test that the combination counts results are returned in a data frame with MultiIndex.\n",
    "        d1 = Dice(np.array([1,2,3,4,5,6]))\n",
    "        d2 = Dice(np.array([1,2,3,4,5,6]))\n",
    "        d3 = Dice(np.array([1,2,3,4,5,6]))\n",
    "        d4 = Dice(np.array([1,2,3,4,5,6]))\n",
    "        game7 = Game([d1,d2,d3,d4])\n",
    "        rolls = 3\n",
    "        game7.play(rolls)\n",
    "        analyzer4 = Analyzer(game7)\n",
    "        combo_counts = analyzer4.combo_count()\n",
    "        self.assertTrue(type(combo_counts) == pd.DataFrame)\n",
    "        self.assertTrue(isinstance(combo_counts.index, pd.MultiIndex))                  \n",
    "        \n",
    "        #from: https://stackoverflow.com/questions/21081042/detect-whether-a-dataframe-has-a-multiindex\n",
    "        \n",
    "    def test_12_permutation_count(self):\n",
    "        # create an analyzer object. Test that the permutation count results are returned in a data frame with MultiIndex.\n",
    "        d1 = Dice(np.array([1,2,3,4,5,6]))\n",
    "        d2 = Dice(np.array([1,2,3,4,5,6]))\n",
    "        d3 = Dice(np.array([1,2,3,4,5,6]))\n",
    "        d4 = Dice(np.array([1,2,3,4,5,6]))\n",
    "        game8 = Game([d1,d2,d3,d4])\n",
    "        rolls = 3\n",
    "        game8.play(rolls)\n",
    "        analyzer5 = Analyzer(game8)\n",
    "        perm_count = analyzer5.permutation_count()\n",
    "        self.assertTrue(type(perm_count) == pd.DataFrame)\n",
    "        self.assertTrue(isinstance(perm_count.index, pd.MultiIndex))\n",
    "\n",
    "        \n",
    "        \n",
    "        \n",
    "if __name__ == '__main__':\n",
    "    \n",
    "    unittest.main(verbosity=3)\n",
    "\n",
    "'''"
   ]
  },
  {
   "cell_type": "markdown",
   "id": "3e058d03-29bc-408f-b36d-0605b4f4b8c0",
   "metadata": {
    "tags": []
   },
   "source": [
    "## Unittest Results (3)\n",
    "\n",
    "Put a copy of the results of running your tests from the command line here.\n",
    "\n",
    "Again, paste as text using triple backticks.\n",
    "\n",
    "- All 12 specified methods return OK (3; .25 each)."
   ]
  },
  {
   "cell_type": "raw",
   "id": "54691fd0-836c-43c7-adc9-4a09d8aa9ab2",
   "metadata": {
    "tags": []
   },
   "source": [
    "'''\n",
    "bash-4.4$python Project_tests.py\n",
    "test_10_face_count (__main__.DieGameTestSuite.test_10_face_count) ... ok\n",
    "test_11_combo_count (__main__.DieGameTestSuite.test_11_combo_count) ... ok\n",
    "test_12_permutation_count (__main__.DieGameTestSuite.test_12_permutation_count) ... ok\n",
    "test_1_die_init (__main__.DieGameTestSuite.test_1_die_init) ... ok\n",
    "test_2_change_weight (__main__.DieGameTestSuite.test_2_change_weight) ... ok\n",
    "test_3_roll_the_die (__main__.DieGameTestSuite.test_3_roll_the_die) ... ok\n",
    "test_4_die_current_state (__main__.DieGameTestSuite.test_4_die_current_state) ... ok\n",
    "test_5_game_init (__main__.DieGameTestSuite.test_5_game_init) ... ok\n",
    "test_6_play (__main__.DieGameTestSuite.test_6_play) ... ok\n",
    "test_7_show_results (__main__.DieGameTestSuite.test_7_show_results) ... ok\n",
    "test_8_analyzer_init (__main__.DieGameTestSuite.test_8_analyzer_init) ... ok\n",
    "test_9_jackpot (__main__.DieGameTestSuite.test_9_jackpot) ... ok\n",
    "\n",
    "----------------------------------------------------------------------\n",
    "Ran 12 tests in 0.038s\n",
    "\n",
    "OK\n",
    "'''"
   ]
  },
  {
   "cell_type": "markdown",
   "id": "d9ffe8c5-eb2f-4ad1-af76-a46550e4c7ac",
   "metadata": {},
   "source": [
    "## Import (1)\n",
    "\n",
    "Import your module here. This import should refer to the code in your package directory.\n",
    "\n",
    "- Module successuflly imported (1)."
   ]
  },
  {
   "cell_type": "code",
   "execution_count": 13,
   "id": "a05dffb3-e6d6-4f78-9df4-5abd0cf74ca9",
   "metadata": {
    "tags": []
   },
   "outputs": [],
   "source": [
    "import montecarlo.montecarlo"
   ]
  },
  {
   "cell_type": "markdown",
   "id": "f30c4842-65b1-4556-98b6-3fe1a07e1371",
   "metadata": {},
   "source": [
    "## Help Docs (4)\n",
    "\n",
    "Show your docstring documentation by applying `help()` to your imported module.\n",
    "\n",
    "- All methods have a docstring (3; .25 each).\n",
    "- All classes have a docstring (1; .33 each)."
   ]
  },
  {
   "cell_type": "code",
   "execution_count": 3,
   "id": "bf4fbf1f-9885-471c-a0a6-e9ca90e160de",
   "metadata": {
    "tags": []
   },
   "outputs": [
    {
     "name": "stdout",
     "output_type": "stream",
     "text": [
      "Help on module montecarlo.montecarlo in montecarlo:\n",
      "\n",
      "NAME\n",
      "    montecarlo.montecarlo\n",
      "\n",
      "CLASSES\n",
      "    builtins.object\n",
      "        Analyzer\n",
      "        Dice\n",
      "        Game\n",
      "    \n",
      "    class Analyzer(builtins.object)\n",
      "     |  Analyzer(game_object)\n",
      "     |  \n",
      "     |  An Analyzer object takes the results of a single game and computes various descriptive statistical properties about it.\n",
      "     |  \n",
      "     |  ATTRIBUTES:\n",
      "     |      game(Game): A game object based on the given parameter.        \n",
      "     |  \n",
      "     |  METHODS:\n",
      "     |      __init__ (self, game_object): Initializes the given game object.\n",
      "     |      \n",
      "     |      jackpot (self): Computes how many times the game resulted in a jackpot. Returns an integer for the number of jackpots.\n",
      "     |      \n",
      "     |      face_count (self): Computes how many times a given face is rolled in each event. Returns a data frame of results.\n",
      "     |      \n",
      "     |      combo_count (self): Computes the distinct combinations of faces rolled, along with their counts. Returns a data frame of results.\n",
      "     |      \n",
      "     |      permutation_count (self): Computes the distinct permutations of faces rolled, along with their counts. Returns a data frame of results.\n",
      "     |  \n",
      "     |  Methods defined here:\n",
      "     |  \n",
      "     |  __init__(self, game_object)\n",
      "     |      PURPOSE: Takes a game object as its input parameter and initializes it.\n",
      "     |      \n",
      "     |      INPUTS: \n",
      "     |          game_object(Game): A game object.\n",
      "     |      \n",
      "     |      RAISES:\n",
      "     |          ValueError: If the passed value is not a Game object.\n",
      "     |  \n",
      "     |  combo_count(self)\n",
      "     |      PURPOSE:\n",
      "     |          Computes the distinct combinations of faces rolled, along with their counts. Combinations are order-independent and may contain repetitions.\n",
      "     |          \n",
      "     |      \n",
      "     |      OUTPUTS:\n",
      "     |          pd.DataFrame: A data frame of the count of order-independent combinations.\n",
      "     |  \n",
      "     |  face_count(self)\n",
      "     |      PURPOSE:\n",
      "     |          Computes how many times a given face is rolled in each event. \n",
      "     |      \n",
      "     |      \n",
      "     |      OUTPUTS: \n",
      "     |        pd.DataFrame: A Data Frame of the face counts. The data frame has an index of the roll number, face values as columns, and count values in the cells.\n",
      "     |  \n",
      "     |  jackpot(self)\n",
      "     |      PURPOSE:\n",
      "     |          Computes how many times the game resulted in a jackpot. A jackpot is a result in which all faces are the same, e.g. all ones for a six-sided die.\n",
      "     |      \n",
      "     |      \n",
      "     |      OUTPUTS:\n",
      "     |          Int: An integer for the number of jackpots.\n",
      "     |  \n",
      "     |  permutation_count(self)\n",
      "     |      PURPOSE:\n",
      "     |          Computes the distinct permutations of faces rolled, along with their counts. Permutations are order-dependent and may contain repetitions.\n",
      "     |      \n",
      "     |      \n",
      "     |      OUTPUTS:\n",
      "     |          pd.DataFrame: A data frame of counts of permutations.\n",
      "     |  \n",
      "     |  ----------------------------------------------------------------------\n",
      "     |  Data descriptors defined here:\n",
      "     |  \n",
      "     |  __dict__\n",
      "     |      dictionary for instance variables (if defined)\n",
      "     |  \n",
      "     |  __weakref__\n",
      "     |      list of weak references to the object (if defined)\n",
      "    \n",
      "    class Dice(builtins.object)\n",
      "     |  Dice(face_array)\n",
      "     |  \n",
      "     |  A class representing a die of N sides or 'faces' and W weights that can be rolled to select a face. By default \n",
      "     |  all faces have equal weight of 1.0, but can be changed after the object is created. Each side of a die contains a\n",
      "     |  unique symbol. Symbols may be alphabetic or numeric. The die has one behavior, which is to be rolled one or more times.\n",
      "     |  \n",
      "     |  ATTRIBUTES:\n",
      "     |      faces(np.ndarray): The faces of the die passed as a NumPy array. Could be numeric or strings.\n",
      "     |      \n",
      "     |      weights (np.ndarray): The weights for each face, defaults to 1.0 for all faces. Can be changed later.\n",
      "     |      \n",
      "     |      _my_die (pd.DataFrame): A private pandas DataFrame that contains faces and their weights.\n",
      "     |      \n",
      "     |  METHODS:\n",
      "     |      __init__(self, face_array): Initializes the Dice object with faces and sets all weights to 1.0.\n",
      "     |      \n",
      "     |      change_weight(side, new_weight): Changes the weight of a given face.\n",
      "     |      \n",
      "     |      roll_the_die(rolls = 1): Rolls the die a specific number of times, and returns a list of outcomes.\n",
      "     |          \n",
      "     |      die_current_state(): Returns a copy of the current state of the die.\n",
      "     |  \n",
      "     |  Methods defined here:\n",
      "     |  \n",
      "     |  __init__(self, face_array)\n",
      "     |      PURPOSE: Initiliaze the Dice object with faces and set all weights to 1.0. \n",
      "     |      Wieghts can be changed after initialization. \n",
      "     |      \n",
      "     |      INPUTS: \n",
      "     |          face_array(np.ndarray): The faces of the die. Should be an numpy array of distinct values.\n",
      "     |          \n",
      "     |      RAISES:\n",
      "     |          TypeError: If face_array is not a numpy array.\n",
      "     |          ValueError: If face_array does not have distinct values.\n",
      "     |  \n",
      "     |  change_weight(self, side, new_weight)\n",
      "     |      PURPOSE: Change the weight of a given face of the die\n",
      "     |      \n",
      "     |      INPUTS:\n",
      "     |          side (str or int): The face of the die to change the wieght of.\n",
      "     |          new_weight (int or float): The new weight for the given side.\n",
      "     |          \n",
      "     |      RAISES:\n",
      "     |          IndexError: If the face passed is not in the die array.\n",
      "     |          TypeError: If new_weight is not an int or float.\n",
      "     |  \n",
      "     |  die_current_state(self)\n",
      "     |      PURPOSE: Returns a copy of the private die data frame.\n",
      "     |      \n",
      "     |      OUTPUTS:\n",
      "     |          pd.DataFrame: A DataFrame of the die's faces and weights.\n",
      "     |  \n",
      "     |  roll_the_die(self, rolls=1)\n",
      "     |      PURPOSE: Roll the die and return a Python list of outcomes.\n",
      "     |      \n",
      "     |      INPUTS:\n",
      "     |          rolls (int): The number of times to roll the die. Defaults to 1.\n",
      "     |      \n",
      "     |      OUTPUTS: \n",
      "     |          List: A list of rolled faces (outcomes).\n",
      "     |  \n",
      "     |  ----------------------------------------------------------------------\n",
      "     |  Data descriptors defined here:\n",
      "     |  \n",
      "     |  __dict__\n",
      "     |      dictionary for instance variables (if defined)\n",
      "     |  \n",
      "     |  __weakref__\n",
      "     |      list of weak references to the object (if defined)\n",
      "    \n",
      "    class Game(builtins.object)\n",
      "     |  Game(dice_list)\n",
      "     |  \n",
      "     |  Class representing a game consisting of rolling one or more similar dice (Die objects) one or more times. \n",
      "     |  \n",
      "     |  Each game is initiated with a Python list of one or more dice. Similar dice mean that each die in a given game \n",
      "     |  has the same number of sides and associated faces, but each die object may have its onw weights. Game objects have \n",
      "     |  behavior to roll all the dice a given number of times. Game objects only keep the results of their most recent play.\n",
      "     |  \n",
      "     |  ATTRIBUTES:\n",
      "     |      list_of_dice(List): A list of one or more Dice objects that are used in the game. All dice must have the has the same number of sides and associated faces.\n",
      "     |      \n",
      "     |      _play_results(pd.DataFrame): A private DataFrame that stores the results of the most recent play in \"wide\" format.\n",
      "     |  \n",
      "     |  METHODS:\n",
      "     |      __int__ (self, dice_list): Initializes a game with a list of Die objects.\n",
      "     |      \n",
      "     |      play(self,rolls): Rolls all the dice the specified number of times and saves the result of the play to a private data frame in \"wide\" format.\n",
      "     |      \n",
      "     |      show_results(self, form = 'wide'): Returns a copy of the private data frame of results of the most recent play in either \"wide\" or \"narrow\" format.\n",
      "     |  \n",
      "     |  Methods defined here:\n",
      "     |  \n",
      "     |  __init__(self, dice_list)\n",
      "     |      PURPOSE: Takes a single parameter, a list of already instantiated similar dice and initializes a Game object with it.\n",
      "     |      \n",
      "     |      INPUTS:\n",
      "     |          dice_list(List): A list of already instantiated similar dice objects.\n",
      "     |          \n",
      "     |      RAISES: \n",
      "     |          TypeError: If any element in the dice_list is not a Die object.\n",
      "     |          ValueError: If any dice in the list have different faces.\n",
      "     |  \n",
      "     |  play(self, rolls)\n",
      "     |      PURPOSE: Simulates playing the game by rolling all dice the specified number of times. Saves results of \n",
      "     |      the play in a private DataFrame (\"_play_results\") in wide format.\n",
      "     |      \n",
      "     |      INPUTS:\n",
      "     |          rolls (int): The number of times to roll the  dice.\n",
      "     |  \n",
      "     |  show_results(self, form='wide')\n",
      "     |      PURPOSE: Returns a copy of the private play data frame to show the user the results of the most recent play in either \"wide\" or \"narrow\" format.\n",
      "     |      \n",
      "     |      INPUTS: \n",
      "     |          form (str): The format (\"Wide\" or \"Narrow\") to return the data frame in. Defaults to wide. \n",
      "     |      \n",
      "     |          \n",
      "     |      OUTPUTS:\n",
      "     |          pd.DataFrame: A DataFrame of the results of the most recent play in the requested format.\n",
      "     |          \n",
      "     |          \n",
      "     |      RAISES:\n",
      "     |          ValueError: If the user passes an invalid option for form other than \"narrow\" or \"wide\".\n",
      "     |  \n",
      "     |  ----------------------------------------------------------------------\n",
      "     |  Data descriptors defined here:\n",
      "     |  \n",
      "     |  __dict__\n",
      "     |      dictionary for instance variables (if defined)\n",
      "     |  \n",
      "     |  __weakref__\n",
      "     |      list of weak references to the object (if defined)\n",
      "\n",
      "FILE\n",
      "    /sfs/gpfs/tardis/home/mm3dc/MonteCarlo/montecarlo/montecarlo.py\n",
      "\n",
      "\n"
     ]
    }
   ],
   "source": [
    "help(montecarlo.montecarlo)"
   ]
  },
  {
   "cell_type": "markdown",
   "id": "a9defa84-b395-4966-bd1c-5c6c2bb7ed68",
   "metadata": {},
   "source": [
    "## `README.md` File (3)\n",
    "\n",
    "Provide link to the README.md file of your project's repo.\n",
    "\n",
    "- Metadata section or info present (1).\n",
    "- Synopsis section showing how each class is called (1). (All must be included.)\n",
    "- API section listing all classes and methods (1). (All must be included.)"
   ]
  },
  {
   "cell_type": "markdown",
   "id": "ee090b33-d593-48a0-bf35-e739cea0942c",
   "metadata": {},
   "source": [
    "URL:https://github.com/mm3dc/MonteCarlo/blob/4e61b9aa1f57ddd32763adbcfa03245e8e097e0a/README.md"
   ]
  },
  {
   "cell_type": "markdown",
   "id": "108604c8-8827-42ef-ab59-6b25428fc0ca",
   "metadata": {},
   "source": [
    "## Successful installation (2)\n",
    "\n",
    "Put a screenshot or paste a copy of a terminal session where you successfully install your module with pip.\n",
    "\n",
    "If pasting text, use a preformatted text block to show the results.\n",
    "\n",
    "- Installed with `pip` (1).\n",
    "- Successfully installed message appears (1)."
   ]
  },
  {
   "cell_type": "code",
   "execution_count": 5,
   "id": "04dfebe1-764f-46c8-ad6f-6a4a536cfecf",
   "metadata": {
    "tags": []
   },
   "outputs": [
    {
     "name": "stdout",
     "output_type": "stream",
     "text": [
      "Defaulting to user installation because normal site-packages is not writeable\n",
      "Processing /sfs/gpfs/tardis/home/mm3dc/MonteCarlo\n",
      "  Preparing metadata (setup.py) ... \u001b[?25ldone\n",
      "\u001b[?25hBuilding wheels for collected packages: MonteCarlo\n",
      "  Building wheel for MonteCarlo (setup.py) ... \u001b[?25ldone\n",
      "\u001b[?25h  Created wheel for MonteCarlo: filename=MonteCarlo-0.1-py3-none-any.whl size=6326 sha256=d65899b1167571a4dd11177fd5c8c01dbceb6b5d4ac0045a87d5b56ffdf59ebe\n",
      "  Stored in directory: /tmp/pip-ephem-wheel-cache-cd5w2_ed/wheels/7e/e5/42/93c0504563954b8ca89b6f90f737420af0746ab96ce653a6bc\n",
      "Successfully built MonteCarlo\n",
      "Installing collected packages: MonteCarlo\n",
      "  Attempting uninstall: MonteCarlo\n",
      "    Found existing installation: MonteCarlo 0.1\n",
      "    Uninstalling MonteCarlo-0.1:\n",
      "      Successfully uninstalled MonteCarlo-0.1\n",
      "Successfully installed MonteCarlo-0.1\n"
     ]
    }
   ],
   "source": [
    "! pip install ."
   ]
  },
  {
   "cell_type": "markdown",
   "id": "7c44695d-d1b3-4edf-9f94-e64d7446f199",
   "metadata": {},
   "source": [
    "# Scenarios\n",
    "\n",
    "Use code blocks to perform the tasks for each scenario.\n",
    "\n",
    "Be sure the outputs are visible before submitting."
   ]
  },
  {
   "cell_type": "markdown",
   "id": "e2479eae-6fc9-44cd-b8d7-9b22cb501f2a",
   "metadata": {
    "tags": []
   },
   "source": [
    "## Scenario 1: A 2-headed Coin (9)\n",
    "\n",
    "Task 1. Create a fair coin (with faces $H$ and $T$) and one unfair coin in which one of the faces has a weight of $5$ and the others $1$.\n",
    "\n",
    "- Fair coin created (1).\n",
    "- Unfair coin created with weight as specified (1)."
   ]
  },
  {
   "cell_type": "code",
   "execution_count": 7,
   "id": "fcb2897d-ebf6-4a29-8e18-be6b92fdfa86",
   "metadata": {
    "tags": []
   },
   "outputs": [],
   "source": [
    "import pandas as pd\n",
    "import numpy as np"
   ]
  },
  {
   "cell_type": "code",
   "execution_count": 20,
   "id": "73f2473e-b149-4fa2-941f-fefd9124ddf5",
   "metadata": {
    "tags": []
   },
   "outputs": [],
   "source": [
    "from montecarlo import Dice, Game, Analyzer"
   ]
  },
  {
   "cell_type": "code",
   "execution_count": 88,
   "id": "55ce498e-c75f-4425-9e3e-b635bd6cd9e1",
   "metadata": {
    "tags": []
   },
   "outputs": [],
   "source": [
    "H_T = np.array(['H','T'])\n",
    "dice_fair = Dice(H_T)"
   ]
  },
  {
   "cell_type": "code",
   "execution_count": 89,
   "id": "178dddcf-b4de-46d2-8343-6b57c5784e9a",
   "metadata": {
    "tags": []
   },
   "outputs": [
    {
     "data": {
      "text/html": [
       "<div>\n",
       "<style scoped>\n",
       "    .dataframe tbody tr th:only-of-type {\n",
       "        vertical-align: middle;\n",
       "    }\n",
       "\n",
       "    .dataframe tbody tr th {\n",
       "        vertical-align: top;\n",
       "    }\n",
       "\n",
       "    .dataframe thead th {\n",
       "        text-align: right;\n",
       "    }\n",
       "</style>\n",
       "<table border=\"1\" class=\"dataframe\">\n",
       "  <thead>\n",
       "    <tr style=\"text-align: right;\">\n",
       "      <th></th>\n",
       "      <th>faces</th>\n",
       "      <th>weights</th>\n",
       "    </tr>\n",
       "  </thead>\n",
       "  <tbody>\n",
       "    <tr>\n",
       "      <th>H</th>\n",
       "      <td>H</td>\n",
       "      <td>1.0</td>\n",
       "    </tr>\n",
       "    <tr>\n",
       "      <th>T</th>\n",
       "      <td>T</td>\n",
       "      <td>1.0</td>\n",
       "    </tr>\n",
       "  </tbody>\n",
       "</table>\n",
       "</div>"
      ],
      "text/plain": [
       "  faces  weights\n",
       "H     H      1.0\n",
       "T     T      1.0"
      ]
     },
     "execution_count": 89,
     "metadata": {},
     "output_type": "execute_result"
    }
   ],
   "source": [
    "dice_fair._my_die"
   ]
  },
  {
   "cell_type": "code",
   "execution_count": 90,
   "id": "f7d023dc-4a78-4d39-953b-0be14a0b7096",
   "metadata": {
    "tags": []
   },
   "outputs": [],
   "source": [
    "dice_unfair = Dice(H_T)\n",
    "dice_unfair.change_weight('T', 5)"
   ]
  },
  {
   "cell_type": "code",
   "execution_count": 91,
   "id": "0c3f2b2d-746e-4e0f-bde2-958694e64922",
   "metadata": {
    "tags": []
   },
   "outputs": [
    {
     "data": {
      "text/html": [
       "<div>\n",
       "<style scoped>\n",
       "    .dataframe tbody tr th:only-of-type {\n",
       "        vertical-align: middle;\n",
       "    }\n",
       "\n",
       "    .dataframe tbody tr th {\n",
       "        vertical-align: top;\n",
       "    }\n",
       "\n",
       "    .dataframe thead th {\n",
       "        text-align: right;\n",
       "    }\n",
       "</style>\n",
       "<table border=\"1\" class=\"dataframe\">\n",
       "  <thead>\n",
       "    <tr style=\"text-align: right;\">\n",
       "      <th></th>\n",
       "      <th>faces</th>\n",
       "      <th>weights</th>\n",
       "    </tr>\n",
       "  </thead>\n",
       "  <tbody>\n",
       "    <tr>\n",
       "      <th>H</th>\n",
       "      <td>H</td>\n",
       "      <td>1.0</td>\n",
       "    </tr>\n",
       "    <tr>\n",
       "      <th>T</th>\n",
       "      <td>T</td>\n",
       "      <td>5.0</td>\n",
       "    </tr>\n",
       "  </tbody>\n",
       "</table>\n",
       "</div>"
      ],
      "text/plain": [
       "  faces  weights\n",
       "H     H      1.0\n",
       "T     T      5.0"
      ]
     },
     "execution_count": 91,
     "metadata": {},
     "output_type": "execute_result"
    }
   ],
   "source": [
    "dice_unfair._my_die"
   ]
  },
  {
   "cell_type": "markdown",
   "id": "02b272ab-99da-4b6e-ac2a-555b73e09c07",
   "metadata": {},
   "source": [
    "Task 2. Play a game of $1000$ flips with two fair dice.\n",
    "\n",
    "- Play method called correclty and without error (1)."
   ]
  },
  {
   "cell_type": "code",
   "execution_count": 24,
   "id": "65c92601-d32d-4326-b215-74953aee27f2",
   "metadata": {
    "tags": []
   },
   "outputs": [],
   "source": [
    "game_fair = Game([dice_fair, dice_fair])\n",
    "game_fair.play(1000)"
   ]
  },
  {
   "cell_type": "code",
   "execution_count": 25,
   "id": "80d0664a-ed80-4995-9608-40e0fa064576",
   "metadata": {
    "tags": []
   },
   "outputs": [
    {
     "data": {
      "text/html": [
       "<div>\n",
       "<style scoped>\n",
       "    .dataframe tbody tr th:only-of-type {\n",
       "        vertical-align: middle;\n",
       "    }\n",
       "\n",
       "    .dataframe tbody tr th {\n",
       "        vertical-align: top;\n",
       "    }\n",
       "\n",
       "    .dataframe thead th {\n",
       "        text-align: right;\n",
       "    }\n",
       "</style>\n",
       "<table border=\"1\" class=\"dataframe\">\n",
       "  <thead>\n",
       "    <tr style=\"text-align: right;\">\n",
       "      <th>die</th>\n",
       "      <th>1</th>\n",
       "      <th>2</th>\n",
       "    </tr>\n",
       "    <tr>\n",
       "      <th>rolls</th>\n",
       "      <th></th>\n",
       "      <th></th>\n",
       "    </tr>\n",
       "  </thead>\n",
       "  <tbody>\n",
       "    <tr>\n",
       "      <th>1</th>\n",
       "      <td>T</td>\n",
       "      <td>H</td>\n",
       "    </tr>\n",
       "    <tr>\n",
       "      <th>2</th>\n",
       "      <td>H</td>\n",
       "      <td>T</td>\n",
       "    </tr>\n",
       "    <tr>\n",
       "      <th>3</th>\n",
       "      <td>H</td>\n",
       "      <td>H</td>\n",
       "    </tr>\n",
       "    <tr>\n",
       "      <th>4</th>\n",
       "      <td>T</td>\n",
       "      <td>T</td>\n",
       "    </tr>\n",
       "    <tr>\n",
       "      <th>5</th>\n",
       "      <td>H</td>\n",
       "      <td>H</td>\n",
       "    </tr>\n",
       "    <tr>\n",
       "      <th>...</th>\n",
       "      <td>...</td>\n",
       "      <td>...</td>\n",
       "    </tr>\n",
       "    <tr>\n",
       "      <th>996</th>\n",
       "      <td>T</td>\n",
       "      <td>T</td>\n",
       "    </tr>\n",
       "    <tr>\n",
       "      <th>997</th>\n",
       "      <td>T</td>\n",
       "      <td>H</td>\n",
       "    </tr>\n",
       "    <tr>\n",
       "      <th>998</th>\n",
       "      <td>H</td>\n",
       "      <td>H</td>\n",
       "    </tr>\n",
       "    <tr>\n",
       "      <th>999</th>\n",
       "      <td>T</td>\n",
       "      <td>T</td>\n",
       "    </tr>\n",
       "    <tr>\n",
       "      <th>1000</th>\n",
       "      <td>T</td>\n",
       "      <td>H</td>\n",
       "    </tr>\n",
       "  </tbody>\n",
       "</table>\n",
       "<p>1000 rows × 2 columns</p>\n",
       "</div>"
      ],
      "text/plain": [
       "die    1  2\n",
       "rolls      \n",
       "1      T  H\n",
       "2      H  T\n",
       "3      H  H\n",
       "4      T  T\n",
       "5      H  H\n",
       "...   .. ..\n",
       "996    T  T\n",
       "997    T  H\n",
       "998    H  H\n",
       "999    T  T\n",
       "1000   T  H\n",
       "\n",
       "[1000 rows x 2 columns]"
      ]
     },
     "execution_count": 25,
     "metadata": {},
     "output_type": "execute_result"
    }
   ],
   "source": [
    "game_fair._play_results"
   ]
  },
  {
   "cell_type": "markdown",
   "id": "7d9c3dc8-22c1-4cae-81fb-d68d774a05d1",
   "metadata": {},
   "source": [
    "Task 3. Play another game (using a new Game object) of $1000$ flips, this time using two unfair dice and one fair die. For the second unfair die, you can use the same die object twice in the list of dice you pass to the Game object.\n",
    "\n",
    "- New game object created (1).\n",
    "- Play method called correclty and without error (1)."
   ]
  },
  {
   "cell_type": "code",
   "execution_count": 26,
   "id": "d4098bed-1eb2-4084-8d5e-9fda07c3be43",
   "metadata": {
    "tags": []
   },
   "outputs": [],
   "source": [
    "game_unfair = Game([dice_fair, dice_unfair, dice_unfair])\n",
    "game_unfair.play(1000)"
   ]
  },
  {
   "cell_type": "code",
   "execution_count": 27,
   "id": "4318d67d-3a5a-4e88-a684-39b0bb689982",
   "metadata": {
    "tags": []
   },
   "outputs": [
    {
     "data": {
      "text/html": [
       "<div>\n",
       "<style scoped>\n",
       "    .dataframe tbody tr th:only-of-type {\n",
       "        vertical-align: middle;\n",
       "    }\n",
       "\n",
       "    .dataframe tbody tr th {\n",
       "        vertical-align: top;\n",
       "    }\n",
       "\n",
       "    .dataframe thead th {\n",
       "        text-align: right;\n",
       "    }\n",
       "</style>\n",
       "<table border=\"1\" class=\"dataframe\">\n",
       "  <thead>\n",
       "    <tr style=\"text-align: right;\">\n",
       "      <th>die</th>\n",
       "      <th>1</th>\n",
       "      <th>2</th>\n",
       "      <th>3</th>\n",
       "    </tr>\n",
       "    <tr>\n",
       "      <th>rolls</th>\n",
       "      <th></th>\n",
       "      <th></th>\n",
       "      <th></th>\n",
       "    </tr>\n",
       "  </thead>\n",
       "  <tbody>\n",
       "    <tr>\n",
       "      <th>1</th>\n",
       "      <td>H</td>\n",
       "      <td>T</td>\n",
       "      <td>T</td>\n",
       "    </tr>\n",
       "    <tr>\n",
       "      <th>2</th>\n",
       "      <td>H</td>\n",
       "      <td>T</td>\n",
       "      <td>T</td>\n",
       "    </tr>\n",
       "    <tr>\n",
       "      <th>3</th>\n",
       "      <td>T</td>\n",
       "      <td>T</td>\n",
       "      <td>T</td>\n",
       "    </tr>\n",
       "    <tr>\n",
       "      <th>4</th>\n",
       "      <td>H</td>\n",
       "      <td>T</td>\n",
       "      <td>T</td>\n",
       "    </tr>\n",
       "    <tr>\n",
       "      <th>5</th>\n",
       "      <td>H</td>\n",
       "      <td>T</td>\n",
       "      <td>H</td>\n",
       "    </tr>\n",
       "    <tr>\n",
       "      <th>...</th>\n",
       "      <td>...</td>\n",
       "      <td>...</td>\n",
       "      <td>...</td>\n",
       "    </tr>\n",
       "    <tr>\n",
       "      <th>996</th>\n",
       "      <td>T</td>\n",
       "      <td>T</td>\n",
       "      <td>H</td>\n",
       "    </tr>\n",
       "    <tr>\n",
       "      <th>997</th>\n",
       "      <td>T</td>\n",
       "      <td>T</td>\n",
       "      <td>T</td>\n",
       "    </tr>\n",
       "    <tr>\n",
       "      <th>998</th>\n",
       "      <td>H</td>\n",
       "      <td>T</td>\n",
       "      <td>T</td>\n",
       "    </tr>\n",
       "    <tr>\n",
       "      <th>999</th>\n",
       "      <td>T</td>\n",
       "      <td>H</td>\n",
       "      <td>T</td>\n",
       "    </tr>\n",
       "    <tr>\n",
       "      <th>1000</th>\n",
       "      <td>H</td>\n",
       "      <td>T</td>\n",
       "      <td>T</td>\n",
       "    </tr>\n",
       "  </tbody>\n",
       "</table>\n",
       "<p>1000 rows × 3 columns</p>\n",
       "</div>"
      ],
      "text/plain": [
       "die    1  2  3\n",
       "rolls         \n",
       "1      H  T  T\n",
       "2      H  T  T\n",
       "3      T  T  T\n",
       "4      H  T  T\n",
       "5      H  T  H\n",
       "...   .. .. ..\n",
       "996    T  T  H\n",
       "997    T  T  T\n",
       "998    H  T  T\n",
       "999    T  H  T\n",
       "1000   H  T  T\n",
       "\n",
       "[1000 rows x 3 columns]"
      ]
     },
     "execution_count": 27,
     "metadata": {},
     "output_type": "execute_result"
    }
   ],
   "source": [
    "game_unfair._play_results"
   ]
  },
  {
   "cell_type": "markdown",
   "id": "f690ebfc-fe71-4eb2-976d-7ac80ca6c23f",
   "metadata": {},
   "source": [
    "Task 4. For each game, use an Analyzer object to determine the raw frequency of jackpots — i.e. getting either all $H$s or all $T$s.\n",
    "\n",
    "- Analyzer objecs instantiated for both games (1).\n",
    "- Raw frequencies reported for both (1)."
   ]
  },
  {
   "cell_type": "code",
   "execution_count": 28,
   "id": "b26b8b7e-3be7-4476-a9a4-37d97536729e",
   "metadata": {
    "tags": []
   },
   "outputs": [
    {
     "data": {
      "text/plain": [
       "470"
      ]
     },
     "execution_count": 28,
     "metadata": {},
     "output_type": "execute_result"
    }
   ],
   "source": [
    "analyzer_fair = Analyzer(game_fair)\n",
    "analyzer_fair.jackpot()"
   ]
  },
  {
   "cell_type": "code",
   "execution_count": 29,
   "id": "dca428f2-4ba9-46fe-948a-e9e952d60495",
   "metadata": {
    "tags": []
   },
   "outputs": [
    {
     "data": {
      "text/plain": [
       "359"
      ]
     },
     "execution_count": 29,
     "metadata": {},
     "output_type": "execute_result"
    }
   ],
   "source": [
    "analyzer_unfair = Analyzer(game_unfair)\n",
    "analyzer_unfair.jackpot()"
   ]
  },
  {
   "cell_type": "markdown",
   "id": "b73d233c-445e-40cd-8858-0c5e1f097105",
   "metadata": {},
   "source": [
    "Task 5. For each analyzer, compute relative frequency as the number of jackpots over the total number of rolls.\n",
    "\n",
    "- Both relative frequencies computed (1)."
   ]
  },
  {
   "cell_type": "code",
   "execution_count": 30,
   "id": "9a96b31b-1b9d-496e-be3e-4bf83c45ec3a",
   "metadata": {
    "tags": []
   },
   "outputs": [],
   "source": [
    "rolls = 1000"
   ]
  },
  {
   "cell_type": "code",
   "execution_count": 31,
   "id": "f5293b1d-1fc5-476f-8148-a81035eb5774",
   "metadata": {
    "tags": []
   },
   "outputs": [
    {
     "data": {
      "text/plain": [
       "0.47"
      ]
     },
     "execution_count": 31,
     "metadata": {},
     "output_type": "execute_result"
    }
   ],
   "source": [
    "analyzer_fair_relative_frequency = analyzer_fair.jackpot()/rolls\n",
    "analyzer_fair_relative_frequency"
   ]
  },
  {
   "cell_type": "code",
   "execution_count": 32,
   "id": "fd7c7c08-8ae7-419c-a948-d6a7fb12deda",
   "metadata": {
    "tags": []
   },
   "outputs": [
    {
     "data": {
      "text/plain": [
       "0.359"
      ]
     },
     "execution_count": 32,
     "metadata": {},
     "output_type": "execute_result"
    }
   ],
   "source": [
    "analyzer_unfair_relative_frequency = analyzer_unfair.jackpot()/rolls\n",
    "analyzer_unfair_relative_frequency"
   ]
  },
  {
   "cell_type": "markdown",
   "id": "a6e1e734-7f5c-4721-8ba4-2f3a424cf984",
   "metadata": {},
   "source": [
    "Task 6. Show your results, comparing the two relative frequencies, in a simple bar chart.\n",
    "\n",
    "- Bar chart plotted and correct (1)."
   ]
  },
  {
   "cell_type": "code",
   "execution_count": 33,
   "id": "473fa67c-aa53-4aa3-a0b7-e8772b3f6ed3",
   "metadata": {
    "tags": []
   },
   "outputs": [],
   "source": [
    "from matplotlib.pyplot import plot"
   ]
  },
  {
   "cell_type": "code",
   "execution_count": 34,
   "id": "793a893e-4773-4ea2-9285-efd6e9e624f1",
   "metadata": {
    "tags": []
   },
   "outputs": [],
   "source": [
    "frequencies = pd.DataFrame({'fair die': [analyzer_fair_relative_frequency], 'unfair die': [analyzer_unfair_relative_frequency]})"
   ]
  },
  {
   "cell_type": "code",
   "execution_count": 35,
   "id": "edb94958-ec1a-43c1-8cb4-0b8f9b48d0db",
   "metadata": {
    "tags": []
   },
   "outputs": [
    {
     "data": {
      "text/plain": [
       "<Axes: >"
      ]
     },
     "execution_count": 35,
     "metadata": {},
     "output_type": "execute_result"
    },
    {
     "data": {
      "image/png": "[encoded data removed]",
      "text/plain": [
       "<Figure size 640x480 with 1 Axes>"
      ]
     },
     "metadata": {},
     "output_type": "display_data"
    }
   ],
   "source": [
    "frequencies.plot.bar()"
   ]
  },
  {
   "cell_type": "markdown",
   "id": "725cfa5b-e4b7-47c9-86aa-8d9e1fe6c8c7",
   "metadata": {},
   "source": [
    "## Scenario 2: A 6-sided Die (9)\n",
    "\n",
    "Task 1. Create three dice, each with six sides having the faces 1 through 6.\n",
    "\n",
    "- Three die objects created (1)."
   ]
  },
  {
   "cell_type": "code",
   "execution_count": 36,
   "id": "6a8bc611-325a-4e05-88d5-980e0a2cf7c5",
   "metadata": {
    "tags": []
   },
   "outputs": [],
   "source": [
    "die_faces = np.array([1,2,3,4,5,6])\n",
    "die_1 = Dice(die_faces)\n",
    "die_2 = Dice(die_faces)\n",
    "die_3 = Dice(die_faces)"
   ]
  },
  {
   "cell_type": "code",
   "execution_count": 37,
   "id": "a59f5d27-16e1-4901-aee3-69c05ff15e40",
   "metadata": {
    "tags": []
   },
   "outputs": [
    {
     "data": {
      "text/html": [
       "<div>\n",
       "<style scoped>\n",
       "    .dataframe tbody tr th:only-of-type {\n",
       "        vertical-align: middle;\n",
       "    }\n",
       "\n",
       "    .dataframe tbody tr th {\n",
       "        vertical-align: top;\n",
       "    }\n",
       "\n",
       "    .dataframe thead th {\n",
       "        text-align: right;\n",
       "    }\n",
       "</style>\n",
       "<table border=\"1\" class=\"dataframe\">\n",
       "  <thead>\n",
       "    <tr style=\"text-align: right;\">\n",
       "      <th></th>\n",
       "      <th>faces</th>\n",
       "      <th>weights</th>\n",
       "    </tr>\n",
       "  </thead>\n",
       "  <tbody>\n",
       "    <tr>\n",
       "      <th>1</th>\n",
       "      <td>1</td>\n",
       "      <td>1.0</td>\n",
       "    </tr>\n",
       "    <tr>\n",
       "      <th>2</th>\n",
       "      <td>2</td>\n",
       "      <td>1.0</td>\n",
       "    </tr>\n",
       "    <tr>\n",
       "      <th>3</th>\n",
       "      <td>3</td>\n",
       "      <td>1.0</td>\n",
       "    </tr>\n",
       "    <tr>\n",
       "      <th>4</th>\n",
       "      <td>4</td>\n",
       "      <td>1.0</td>\n",
       "    </tr>\n",
       "    <tr>\n",
       "      <th>5</th>\n",
       "      <td>5</td>\n",
       "      <td>1.0</td>\n",
       "    </tr>\n",
       "    <tr>\n",
       "      <th>6</th>\n",
       "      <td>6</td>\n",
       "      <td>1.0</td>\n",
       "    </tr>\n",
       "  </tbody>\n",
       "</table>\n",
       "</div>"
      ],
      "text/plain": [
       "   faces  weights\n",
       "1      1      1.0\n",
       "2      2      1.0\n",
       "3      3      1.0\n",
       "4      4      1.0\n",
       "5      5      1.0\n",
       "6      6      1.0"
      ]
     },
     "execution_count": 37,
     "metadata": {},
     "output_type": "execute_result"
    }
   ],
   "source": [
    "die_1._my_die"
   ]
  },
  {
   "cell_type": "code",
   "execution_count": 38,
   "id": "d78089de-bc6b-4df0-8fb6-9532a29e0d63",
   "metadata": {
    "tags": []
   },
   "outputs": [
    {
     "data": {
      "text/html": [
       "<div>\n",
       "<style scoped>\n",
       "    .dataframe tbody tr th:only-of-type {\n",
       "        vertical-align: middle;\n",
       "    }\n",
       "\n",
       "    .dataframe tbody tr th {\n",
       "        vertical-align: top;\n",
       "    }\n",
       "\n",
       "    .dataframe thead th {\n",
       "        text-align: right;\n",
       "    }\n",
       "</style>\n",
       "<table border=\"1\" class=\"dataframe\">\n",
       "  <thead>\n",
       "    <tr style=\"text-align: right;\">\n",
       "      <th></th>\n",
       "      <th>faces</th>\n",
       "      <th>weights</th>\n",
       "    </tr>\n",
       "  </thead>\n",
       "  <tbody>\n",
       "    <tr>\n",
       "      <th>1</th>\n",
       "      <td>1</td>\n",
       "      <td>1.0</td>\n",
       "    </tr>\n",
       "    <tr>\n",
       "      <th>2</th>\n",
       "      <td>2</td>\n",
       "      <td>1.0</td>\n",
       "    </tr>\n",
       "    <tr>\n",
       "      <th>3</th>\n",
       "      <td>3</td>\n",
       "      <td>1.0</td>\n",
       "    </tr>\n",
       "    <tr>\n",
       "      <th>4</th>\n",
       "      <td>4</td>\n",
       "      <td>1.0</td>\n",
       "    </tr>\n",
       "    <tr>\n",
       "      <th>5</th>\n",
       "      <td>5</td>\n",
       "      <td>1.0</td>\n",
       "    </tr>\n",
       "    <tr>\n",
       "      <th>6</th>\n",
       "      <td>6</td>\n",
       "      <td>1.0</td>\n",
       "    </tr>\n",
       "  </tbody>\n",
       "</table>\n",
       "</div>"
      ],
      "text/plain": [
       "   faces  weights\n",
       "1      1      1.0\n",
       "2      2      1.0\n",
       "3      3      1.0\n",
       "4      4      1.0\n",
       "5      5      1.0\n",
       "6      6      1.0"
      ]
     },
     "execution_count": 38,
     "metadata": {},
     "output_type": "execute_result"
    }
   ],
   "source": [
    "die_2._my_die"
   ]
  },
  {
   "cell_type": "code",
   "execution_count": 39,
   "id": "b31f21c9-4d2b-4faf-832e-9c9f5a74ec65",
   "metadata": {
    "tags": []
   },
   "outputs": [
    {
     "data": {
      "text/html": [
       "<div>\n",
       "<style scoped>\n",
       "    .dataframe tbody tr th:only-of-type {\n",
       "        vertical-align: middle;\n",
       "    }\n",
       "\n",
       "    .dataframe tbody tr th {\n",
       "        vertical-align: top;\n",
       "    }\n",
       "\n",
       "    .dataframe thead th {\n",
       "        text-align: right;\n",
       "    }\n",
       "</style>\n",
       "<table border=\"1\" class=\"dataframe\">\n",
       "  <thead>\n",
       "    <tr style=\"text-align: right;\">\n",
       "      <th></th>\n",
       "      <th>faces</th>\n",
       "      <th>weights</th>\n",
       "    </tr>\n",
       "  </thead>\n",
       "  <tbody>\n",
       "    <tr>\n",
       "      <th>1</th>\n",
       "      <td>1</td>\n",
       "      <td>1.0</td>\n",
       "    </tr>\n",
       "    <tr>\n",
       "      <th>2</th>\n",
       "      <td>2</td>\n",
       "      <td>1.0</td>\n",
       "    </tr>\n",
       "    <tr>\n",
       "      <th>3</th>\n",
       "      <td>3</td>\n",
       "      <td>1.0</td>\n",
       "    </tr>\n",
       "    <tr>\n",
       "      <th>4</th>\n",
       "      <td>4</td>\n",
       "      <td>1.0</td>\n",
       "    </tr>\n",
       "    <tr>\n",
       "      <th>5</th>\n",
       "      <td>5</td>\n",
       "      <td>1.0</td>\n",
       "    </tr>\n",
       "    <tr>\n",
       "      <th>6</th>\n",
       "      <td>6</td>\n",
       "      <td>1.0</td>\n",
       "    </tr>\n",
       "  </tbody>\n",
       "</table>\n",
       "</div>"
      ],
      "text/plain": [
       "   faces  weights\n",
       "1      1      1.0\n",
       "2      2      1.0\n",
       "3      3      1.0\n",
       "4      4      1.0\n",
       "5      5      1.0\n",
       "6      6      1.0"
      ]
     },
     "execution_count": 39,
     "metadata": {},
     "output_type": "execute_result"
    }
   ],
   "source": [
    "die_3._my_die"
   ]
  },
  {
   "cell_type": "markdown",
   "id": "2ed3ad26-fbe9-43bd-9ad7-f683a4191d12",
   "metadata": {},
   "source": [
    "Task 2. Convert one of the dice to an unfair one by weighting the face $6$ five times more than the other weights (i.e. it has weight of 5 and the others a weight of 1 each).\n",
    "\n",
    "- Unfair die created with proper call to weight change method (1)."
   ]
  },
  {
   "cell_type": "code",
   "execution_count": 40,
   "id": "e33dd18f-7f90-456d-a680-61c08a328e21",
   "metadata": {
    "tags": []
   },
   "outputs": [
    {
     "data": {
      "text/html": [
       "<div>\n",
       "<style scoped>\n",
       "    .dataframe tbody tr th:only-of-type {\n",
       "        vertical-align: middle;\n",
       "    }\n",
       "\n",
       "    .dataframe tbody tr th {\n",
       "        vertical-align: top;\n",
       "    }\n",
       "\n",
       "    .dataframe thead th {\n",
       "        text-align: right;\n",
       "    }\n",
       "</style>\n",
       "<table border=\"1\" class=\"dataframe\">\n",
       "  <thead>\n",
       "    <tr style=\"text-align: right;\">\n",
       "      <th></th>\n",
       "      <th>faces</th>\n",
       "      <th>weights</th>\n",
       "    </tr>\n",
       "  </thead>\n",
       "  <tbody>\n",
       "    <tr>\n",
       "      <th>1</th>\n",
       "      <td>1</td>\n",
       "      <td>1.0</td>\n",
       "    </tr>\n",
       "    <tr>\n",
       "      <th>2</th>\n",
       "      <td>2</td>\n",
       "      <td>1.0</td>\n",
       "    </tr>\n",
       "    <tr>\n",
       "      <th>3</th>\n",
       "      <td>3</td>\n",
       "      <td>1.0</td>\n",
       "    </tr>\n",
       "    <tr>\n",
       "      <th>4</th>\n",
       "      <td>4</td>\n",
       "      <td>1.0</td>\n",
       "    </tr>\n",
       "    <tr>\n",
       "      <th>5</th>\n",
       "      <td>5</td>\n",
       "      <td>1.0</td>\n",
       "    </tr>\n",
       "    <tr>\n",
       "      <th>6</th>\n",
       "      <td>6</td>\n",
       "      <td>5.0</td>\n",
       "    </tr>\n",
       "  </tbody>\n",
       "</table>\n",
       "</div>"
      ],
      "text/plain": [
       "   faces  weights\n",
       "1      1      1.0\n",
       "2      2      1.0\n",
       "3      3      1.0\n",
       "4      4      1.0\n",
       "5      5      1.0\n",
       "6      6      5.0"
      ]
     },
     "execution_count": 40,
     "metadata": {},
     "output_type": "execute_result"
    }
   ],
   "source": [
    "die_2.change_weight(6,5)\n",
    "die_2._my_die"
   ]
  },
  {
   "cell_type": "markdown",
   "id": "7f6c062a-4c5b-45b9-96b8-76a0354c7e47",
   "metadata": {},
   "source": [
    "Task 3. Convert another of the dice to be unfair by weighting the face $1$ five times more than the others.\n",
    "\n",
    "- Unfair die created with proper call to weight change method (1)."
   ]
  },
  {
   "cell_type": "code",
   "execution_count": 41,
   "id": "01133a4e-6b06-4246-8d90-8e6d6995be51",
   "metadata": {
    "tags": []
   },
   "outputs": [
    {
     "data": {
      "text/html": [
       "<div>\n",
       "<style scoped>\n",
       "    .dataframe tbody tr th:only-of-type {\n",
       "        vertical-align: middle;\n",
       "    }\n",
       "\n",
       "    .dataframe tbody tr th {\n",
       "        vertical-align: top;\n",
       "    }\n",
       "\n",
       "    .dataframe thead th {\n",
       "        text-align: right;\n",
       "    }\n",
       "</style>\n",
       "<table border=\"1\" class=\"dataframe\">\n",
       "  <thead>\n",
       "    <tr style=\"text-align: right;\">\n",
       "      <th></th>\n",
       "      <th>faces</th>\n",
       "      <th>weights</th>\n",
       "    </tr>\n",
       "  </thead>\n",
       "  <tbody>\n",
       "    <tr>\n",
       "      <th>1</th>\n",
       "      <td>1</td>\n",
       "      <td>5.0</td>\n",
       "    </tr>\n",
       "    <tr>\n",
       "      <th>2</th>\n",
       "      <td>2</td>\n",
       "      <td>1.0</td>\n",
       "    </tr>\n",
       "    <tr>\n",
       "      <th>3</th>\n",
       "      <td>3</td>\n",
       "      <td>1.0</td>\n",
       "    </tr>\n",
       "    <tr>\n",
       "      <th>4</th>\n",
       "      <td>4</td>\n",
       "      <td>1.0</td>\n",
       "    </tr>\n",
       "    <tr>\n",
       "      <th>5</th>\n",
       "      <td>5</td>\n",
       "      <td>1.0</td>\n",
       "    </tr>\n",
       "    <tr>\n",
       "      <th>6</th>\n",
       "      <td>6</td>\n",
       "      <td>1.0</td>\n",
       "    </tr>\n",
       "  </tbody>\n",
       "</table>\n",
       "</div>"
      ],
      "text/plain": [
       "   faces  weights\n",
       "1      1      5.0\n",
       "2      2      1.0\n",
       "3      3      1.0\n",
       "4      4      1.0\n",
       "5      5      1.0\n",
       "6      6      1.0"
      ]
     },
     "execution_count": 41,
     "metadata": {},
     "output_type": "execute_result"
    }
   ],
   "source": [
    "die_1.change_weight(1,5)\n",
    "die_1._my_die"
   ]
  },
  {
   "cell_type": "markdown",
   "id": "f0ed31cb-0a3c-4eb2-b85e-6ed6b2eb6e58",
   "metadata": {},
   "source": [
    "Task 4. Play a game of $10000$ rolls with $5$ fair dice.\n",
    "\n",
    "- Game class properly instantiated (1). \n",
    "- Play method called properly (1)."
   ]
  },
  {
   "cell_type": "code",
   "execution_count": 43,
   "id": "980c7437-fdcb-4be6-80c6-c2da10e362d7",
   "metadata": {
    "tags": []
   },
   "outputs": [
    {
     "data": {
      "text/html": [
       "<div>\n",
       "<style scoped>\n",
       "    .dataframe tbody tr th:only-of-type {\n",
       "        vertical-align: middle;\n",
       "    }\n",
       "\n",
       "    .dataframe tbody tr th {\n",
       "        vertical-align: top;\n",
       "    }\n",
       "\n",
       "    .dataframe thead th {\n",
       "        text-align: right;\n",
       "    }\n",
       "</style>\n",
       "<table border=\"1\" class=\"dataframe\">\n",
       "  <thead>\n",
       "    <tr style=\"text-align: right;\">\n",
       "      <th></th>\n",
       "      <th>faces</th>\n",
       "      <th>weights</th>\n",
       "    </tr>\n",
       "  </thead>\n",
       "  <tbody>\n",
       "    <tr>\n",
       "      <th>1</th>\n",
       "      <td>1</td>\n",
       "      <td>1.0</td>\n",
       "    </tr>\n",
       "    <tr>\n",
       "      <th>2</th>\n",
       "      <td>2</td>\n",
       "      <td>1.0</td>\n",
       "    </tr>\n",
       "    <tr>\n",
       "      <th>3</th>\n",
       "      <td>3</td>\n",
       "      <td>1.0</td>\n",
       "    </tr>\n",
       "    <tr>\n",
       "      <th>4</th>\n",
       "      <td>4</td>\n",
       "      <td>1.0</td>\n",
       "    </tr>\n",
       "    <tr>\n",
       "      <th>5</th>\n",
       "      <td>5</td>\n",
       "      <td>1.0</td>\n",
       "    </tr>\n",
       "    <tr>\n",
       "      <th>6</th>\n",
       "      <td>6</td>\n",
       "      <td>1.0</td>\n",
       "    </tr>\n",
       "  </tbody>\n",
       "</table>\n",
       "</div>"
      ],
      "text/plain": [
       "   faces  weights\n",
       "1      1      1.0\n",
       "2      2      1.0\n",
       "3      3      1.0\n",
       "4      4      1.0\n",
       "5      5      1.0\n",
       "6      6      1.0"
      ]
     },
     "execution_count": 43,
     "metadata": {},
     "output_type": "execute_result"
    }
   ],
   "source": [
    "die_3._my_die     #die_3 is fair"
   ]
  },
  {
   "cell_type": "code",
   "execution_count": 42,
   "id": "e92395a4-9ed8-4cb0-8c85-38768a784ffc",
   "metadata": {
    "tags": []
   },
   "outputs": [],
   "source": [
    "game_5_fair = Game([die_3, die_3, die_3, die_3, die_3])      \n",
    "game_5_fair.play(10000)"
   ]
  },
  {
   "cell_type": "code",
   "execution_count": 44,
   "id": "4d0a9850-93e5-4f6f-b5a9-aea240e5a4d6",
   "metadata": {
    "tags": []
   },
   "outputs": [
    {
     "data": {
      "text/html": [
       "<div>\n",
       "<style scoped>\n",
       "    .dataframe tbody tr th:only-of-type {\n",
       "        vertical-align: middle;\n",
       "    }\n",
       "\n",
       "    .dataframe tbody tr th {\n",
       "        vertical-align: top;\n",
       "    }\n",
       "\n",
       "    .dataframe thead th {\n",
       "        text-align: right;\n",
       "    }\n",
       "</style>\n",
       "<table border=\"1\" class=\"dataframe\">\n",
       "  <thead>\n",
       "    <tr style=\"text-align: right;\">\n",
       "      <th>die</th>\n",
       "      <th>1</th>\n",
       "      <th>2</th>\n",
       "      <th>3</th>\n",
       "      <th>4</th>\n",
       "      <th>5</th>\n",
       "    </tr>\n",
       "    <tr>\n",
       "      <th>rolls</th>\n",
       "      <th></th>\n",
       "      <th></th>\n",
       "      <th></th>\n",
       "      <th></th>\n",
       "      <th></th>\n",
       "    </tr>\n",
       "  </thead>\n",
       "  <tbody>\n",
       "    <tr>\n",
       "      <th>1</th>\n",
       "      <td>5</td>\n",
       "      <td>2</td>\n",
       "      <td>6</td>\n",
       "      <td>4</td>\n",
       "      <td>4</td>\n",
       "    </tr>\n",
       "    <tr>\n",
       "      <th>2</th>\n",
       "      <td>1</td>\n",
       "      <td>5</td>\n",
       "      <td>6</td>\n",
       "      <td>2</td>\n",
       "      <td>4</td>\n",
       "    </tr>\n",
       "    <tr>\n",
       "      <th>3</th>\n",
       "      <td>3</td>\n",
       "      <td>6</td>\n",
       "      <td>3</td>\n",
       "      <td>2</td>\n",
       "      <td>6</td>\n",
       "    </tr>\n",
       "    <tr>\n",
       "      <th>4</th>\n",
       "      <td>3</td>\n",
       "      <td>2</td>\n",
       "      <td>6</td>\n",
       "      <td>1</td>\n",
       "      <td>6</td>\n",
       "    </tr>\n",
       "    <tr>\n",
       "      <th>5</th>\n",
       "      <td>2</td>\n",
       "      <td>3</td>\n",
       "      <td>4</td>\n",
       "      <td>2</td>\n",
       "      <td>5</td>\n",
       "    </tr>\n",
       "    <tr>\n",
       "      <th>...</th>\n",
       "      <td>...</td>\n",
       "      <td>...</td>\n",
       "      <td>...</td>\n",
       "      <td>...</td>\n",
       "      <td>...</td>\n",
       "    </tr>\n",
       "    <tr>\n",
       "      <th>9996</th>\n",
       "      <td>2</td>\n",
       "      <td>3</td>\n",
       "      <td>4</td>\n",
       "      <td>4</td>\n",
       "      <td>4</td>\n",
       "    </tr>\n",
       "    <tr>\n",
       "      <th>9997</th>\n",
       "      <td>6</td>\n",
       "      <td>5</td>\n",
       "      <td>4</td>\n",
       "      <td>6</td>\n",
       "      <td>2</td>\n",
       "    </tr>\n",
       "    <tr>\n",
       "      <th>9998</th>\n",
       "      <td>1</td>\n",
       "      <td>6</td>\n",
       "      <td>5</td>\n",
       "      <td>3</td>\n",
       "      <td>3</td>\n",
       "    </tr>\n",
       "    <tr>\n",
       "      <th>9999</th>\n",
       "      <td>2</td>\n",
       "      <td>6</td>\n",
       "      <td>5</td>\n",
       "      <td>3</td>\n",
       "      <td>4</td>\n",
       "    </tr>\n",
       "    <tr>\n",
       "      <th>10000</th>\n",
       "      <td>3</td>\n",
       "      <td>2</td>\n",
       "      <td>3</td>\n",
       "      <td>2</td>\n",
       "      <td>2</td>\n",
       "    </tr>\n",
       "  </tbody>\n",
       "</table>\n",
       "<p>10000 rows × 5 columns</p>\n",
       "</div>"
      ],
      "text/plain": [
       "die    1  2  3  4  5\n",
       "rolls               \n",
       "1      5  2  6  4  4\n",
       "2      1  5  6  2  4\n",
       "3      3  6  3  2  6\n",
       "4      3  2  6  1  6\n",
       "5      2  3  4  2  5\n",
       "...   .. .. .. .. ..\n",
       "9996   2  3  4  4  4\n",
       "9997   6  5  4  6  2\n",
       "9998   1  6  5  3  3\n",
       "9999   2  6  5  3  4\n",
       "10000  3  2  3  2  2\n",
       "\n",
       "[10000 rows x 5 columns]"
      ]
     },
     "execution_count": 44,
     "metadata": {},
     "output_type": "execute_result"
    }
   ],
   "source": [
    "game_5_fair._play_results"
   ]
  },
  {
   "cell_type": "markdown",
   "id": "7814b402-46a4-40e5-8141-20e05c3e646b",
   "metadata": {},
   "source": [
    "Task 5. Play another game of $10000$ rolls, this time with $2$ unfair dice, one as defined in steps #2 and #3 respectively, and $3$ fair dice.\n",
    "\n",
    "- Game class properly instantiated (1). \n",
    "- Play method called properly (1)."
   ]
  },
  {
   "cell_type": "code",
   "execution_count": 45,
   "id": "7cd58fba-b2a5-4d5d-bc6d-2a7a68d18c4f",
   "metadata": {
    "tags": []
   },
   "outputs": [],
   "source": [
    "game_unfair_2 = Game([die_2, die_1, die_3, die_3, die_3])\n",
    "game_unfair_2.play(10000)"
   ]
  },
  {
   "cell_type": "code",
   "execution_count": 46,
   "id": "85934220-7313-46d2-8364-e2a0a9a9441d",
   "metadata": {
    "tags": []
   },
   "outputs": [
    {
     "data": {
      "text/html": [
       "<div>\n",
       "<style scoped>\n",
       "    .dataframe tbody tr th:only-of-type {\n",
       "        vertical-align: middle;\n",
       "    }\n",
       "\n",
       "    .dataframe tbody tr th {\n",
       "        vertical-align: top;\n",
       "    }\n",
       "\n",
       "    .dataframe thead th {\n",
       "        text-align: right;\n",
       "    }\n",
       "</style>\n",
       "<table border=\"1\" class=\"dataframe\">\n",
       "  <thead>\n",
       "    <tr style=\"text-align: right;\">\n",
       "      <th>die</th>\n",
       "      <th>1</th>\n",
       "      <th>2</th>\n",
       "      <th>3</th>\n",
       "      <th>4</th>\n",
       "      <th>5</th>\n",
       "    </tr>\n",
       "    <tr>\n",
       "      <th>rolls</th>\n",
       "      <th></th>\n",
       "      <th></th>\n",
       "      <th></th>\n",
       "      <th></th>\n",
       "      <th></th>\n",
       "    </tr>\n",
       "  </thead>\n",
       "  <tbody>\n",
       "    <tr>\n",
       "      <th>1</th>\n",
       "      <td>4</td>\n",
       "      <td>6</td>\n",
       "      <td>3</td>\n",
       "      <td>3</td>\n",
       "      <td>2</td>\n",
       "    </tr>\n",
       "    <tr>\n",
       "      <th>2</th>\n",
       "      <td>1</td>\n",
       "      <td>6</td>\n",
       "      <td>3</td>\n",
       "      <td>1</td>\n",
       "      <td>5</td>\n",
       "    </tr>\n",
       "    <tr>\n",
       "      <th>3</th>\n",
       "      <td>6</td>\n",
       "      <td>3</td>\n",
       "      <td>6</td>\n",
       "      <td>4</td>\n",
       "      <td>5</td>\n",
       "    </tr>\n",
       "    <tr>\n",
       "      <th>4</th>\n",
       "      <td>6</td>\n",
       "      <td>4</td>\n",
       "      <td>3</td>\n",
       "      <td>3</td>\n",
       "      <td>3</td>\n",
       "    </tr>\n",
       "    <tr>\n",
       "      <th>5</th>\n",
       "      <td>2</td>\n",
       "      <td>1</td>\n",
       "      <td>3</td>\n",
       "      <td>6</td>\n",
       "      <td>4</td>\n",
       "    </tr>\n",
       "    <tr>\n",
       "      <th>...</th>\n",
       "      <td>...</td>\n",
       "      <td>...</td>\n",
       "      <td>...</td>\n",
       "      <td>...</td>\n",
       "      <td>...</td>\n",
       "    </tr>\n",
       "    <tr>\n",
       "      <th>9996</th>\n",
       "      <td>5</td>\n",
       "      <td>3</td>\n",
       "      <td>1</td>\n",
       "      <td>1</td>\n",
       "      <td>5</td>\n",
       "    </tr>\n",
       "    <tr>\n",
       "      <th>9997</th>\n",
       "      <td>6</td>\n",
       "      <td>3</td>\n",
       "      <td>1</td>\n",
       "      <td>6</td>\n",
       "      <td>5</td>\n",
       "    </tr>\n",
       "    <tr>\n",
       "      <th>9998</th>\n",
       "      <td>6</td>\n",
       "      <td>1</td>\n",
       "      <td>5</td>\n",
       "      <td>5</td>\n",
       "      <td>5</td>\n",
       "    </tr>\n",
       "    <tr>\n",
       "      <th>9999</th>\n",
       "      <td>4</td>\n",
       "      <td>4</td>\n",
       "      <td>6</td>\n",
       "      <td>1</td>\n",
       "      <td>5</td>\n",
       "    </tr>\n",
       "    <tr>\n",
       "      <th>10000</th>\n",
       "      <td>3</td>\n",
       "      <td>4</td>\n",
       "      <td>1</td>\n",
       "      <td>1</td>\n",
       "      <td>2</td>\n",
       "    </tr>\n",
       "  </tbody>\n",
       "</table>\n",
       "<p>10000 rows × 5 columns</p>\n",
       "</div>"
      ],
      "text/plain": [
       "die    1  2  3  4  5\n",
       "rolls               \n",
       "1      4  6  3  3  2\n",
       "2      1  6  3  1  5\n",
       "3      6  3  6  4  5\n",
       "4      6  4  3  3  3\n",
       "5      2  1  3  6  4\n",
       "...   .. .. .. .. ..\n",
       "9996   5  3  1  1  5\n",
       "9997   6  3  1  6  5\n",
       "9998   6  1  5  5  5\n",
       "9999   4  4  6  1  5\n",
       "10000  3  4  1  1  2\n",
       "\n",
       "[10000 rows x 5 columns]"
      ]
     },
     "execution_count": 46,
     "metadata": {},
     "output_type": "execute_result"
    }
   ],
   "source": [
    "game_unfair_2._play_results"
   ]
  },
  {
   "cell_type": "markdown",
   "id": "7b6cd372-2bb8-4df8-ade1-8f48bc300955",
   "metadata": {},
   "source": [
    "Task 6. For each game, use an Analyzer object to determine the relative frequency of jackpots and show your results, comparing the two relative frequencies, in a simple bar chart.\n",
    "\n",
    "- Jackpot methods called (1).\n",
    "- Graph produced (1)."
   ]
  },
  {
   "cell_type": "code",
   "execution_count": 47,
   "id": "bbdcf695-8937-406e-9b53-aa0b9ee3c59a",
   "metadata": {
    "tags": []
   },
   "outputs": [
    {
     "data": {
      "text/plain": [
       "5"
      ]
     },
     "execution_count": 47,
     "metadata": {},
     "output_type": "execute_result"
    }
   ],
   "source": [
    "analyzer_5_fair = Analyzer(game_5_fair)\n",
    "fair_jackpot = analyzer_5_fair.jackpot()\n",
    "fair_jackpot"
   ]
  },
  {
   "cell_type": "code",
   "execution_count": 48,
   "id": "e2fad0a7-afd3-4bbb-95bd-2e2fca16417f",
   "metadata": {
    "tags": []
   },
   "outputs": [
    {
     "data": {
      "text/plain": [
       "6"
      ]
     },
     "execution_count": 48,
     "metadata": {},
     "output_type": "execute_result"
    }
   ],
   "source": [
    "analyzer_unfair_2 = Analyzer(game_unfair_2)\n",
    "unfair_jackpot = analyzer_unfair_2.jackpot()\n",
    "unfair_jackpot"
   ]
  },
  {
   "cell_type": "code",
   "execution_count": 51,
   "id": "c1d23e25-959c-44a2-b761-c286c1dec4dd",
   "metadata": {
    "tags": []
   },
   "outputs": [],
   "source": [
    "from matplotlib.pyplot import plot"
   ]
  },
  {
   "cell_type": "code",
   "execution_count": 52,
   "id": "aa62b373-1a9b-46a8-b4c4-4bdab36f11b1",
   "metadata": {
    "tags": []
   },
   "outputs": [],
   "source": [
    "jackpots = pd.DataFrame({'fair game': [fair_jackpot], 'unfair game': [unfair_jackpot]})"
   ]
  },
  {
   "cell_type": "code",
   "execution_count": 53,
   "id": "706a2525-9038-424b-a40a-d30aee589725",
   "metadata": {
    "tags": []
   },
   "outputs": [
    {
     "data": {
      "text/plain": [
       "<Axes: >"
      ]
     },
     "execution_count": 53,
     "metadata": {},
     "output_type": "execute_result"
    },
    {
     "data": {
      "image/png": "[encoded data removed]",
      "text/plain": [
       "<Figure size 640x480 with 1 Axes>"
      ]
     },
     "metadata": {},
     "output_type": "display_data"
    }
   ],
   "source": [
    "jackpots.plot.bar()"
   ]
  },
  {
   "cell_type": "markdown",
   "id": "9f04e9be-8fcf-4ea4-a391-6614608285f8",
   "metadata": {},
   "source": [
    "## Scenario 3: Letters of the Alphabet (7)\n",
    "\n",
    "Task 1. Create a \"die\" of letters from $A$ to $Z$ with weights based on their frequency of usage as found in the data file `english_letters.txt`. Use the frequencies (i.e. raw counts) as weights.\n",
    "\n",
    "- Die correctly instantiated with source file data (1).\n",
    "- Weights properly applied using weight setting method (1)."
   ]
  },
  {
   "cell_type": "code",
   "execution_count": 55,
   "id": "b0ceb771-3cdf-4d8f-8c2c-020806bbb909",
   "metadata": {
    "tags": []
   },
   "outputs": [
    {
     "data": {
      "text/plain": [
       "{'E': 529117365,\n",
       " 'T': 390965105,\n",
       " 'A': 374061888,\n",
       " 'O': 326627740,\n",
       " 'I': 320410057,\n",
       " 'N': 313720540,\n",
       " 'S': 294300210,\n",
       " 'R': 277000841,\n",
       " 'H': 216768975,\n",
       " 'L': 183996130,\n",
       " 'D': 169330528,\n",
       " 'C': 138416451,\n",
       " 'U': 117295780,\n",
       " 'M': 110504544,\n",
       " 'F': 95422055,\n",
       " 'G': 91258980,\n",
       " 'P': 90376747,\n",
       " 'W': 79843664,\n",
       " 'Y': 75294515,\n",
       " 'B': 70195826,\n",
       " 'V': 46337161,\n",
       " 'K': 35373464,\n",
       " 'J': 9613410,\n",
       " 'X': 8369915,\n",
       " 'Z': 4975847,\n",
       " 'Q': 4550166}"
      ]
     },
     "execution_count": 55,
     "metadata": {},
     "output_type": "execute_result"
    }
   ],
   "source": [
    "english_letters = {}\n",
    "\n",
    "with open('english_letters.txt', 'r') as infile:\n",
    "    for line in infile:\n",
    "        row = line.strip().split()\n",
    "        alphabet = row[0]\n",
    "        frequency = int(row[1])\n",
    "        english_letters[alphabet] = frequency\n",
    "\n",
    "english_letters"
   ]
  },
  {
   "cell_type": "code",
   "execution_count": 93,
   "id": "d75cecec-24dc-42d8-88d2-a761d0d63f49",
   "metadata": {
    "tags": []
   },
   "outputs": [
    {
     "data": {
      "text/plain": [
       "['A',\n",
       " 'B',\n",
       " 'C',\n",
       " 'D',\n",
       " 'E',\n",
       " 'F',\n",
       " 'G',\n",
       " 'H',\n",
       " 'I',\n",
       " 'J',\n",
       " 'K',\n",
       " 'L',\n",
       " 'M',\n",
       " 'N',\n",
       " 'O',\n",
       " 'P',\n",
       " 'Q',\n",
       " 'R',\n",
       " 'S',\n",
       " 'T',\n",
       " 'U',\n",
       " 'V',\n",
       " 'W',\n",
       " 'X',\n",
       " 'Y',\n",
       " 'Z']"
      ]
     },
     "execution_count": 93,
     "metadata": {},
     "output_type": "execute_result"
    }
   ],
   "source": [
    "faces = list(map(chr, range(ord('A'), ord('Z') + 1)))             \n",
    "faces\n",
    "\n",
    "#from https://stackoverflow.com/questions/16060899/alphabet-range-in-python"
   ]
  },
  {
   "cell_type": "code",
   "execution_count": 94,
   "id": "68d69f91-7c1e-4e74-9655-c7c6ddd02c29",
   "metadata": {
    "tags": []
   },
   "outputs": [],
   "source": [
    "alphabet_die = Dice(np.array(faces))"
   ]
  },
  {
   "cell_type": "code",
   "execution_count": 95,
   "id": "37c6dc06-c28f-4690-8072-49ac75588d33",
   "metadata": {
    "tags": []
   },
   "outputs": [
    {
     "data": {
      "text/html": [
       "<div>\n",
       "<style scoped>\n",
       "    .dataframe tbody tr th:only-of-type {\n",
       "        vertical-align: middle;\n",
       "    }\n",
       "\n",
       "    .dataframe tbody tr th {\n",
       "        vertical-align: top;\n",
       "    }\n",
       "\n",
       "    .dataframe thead th {\n",
       "        text-align: right;\n",
       "    }\n",
       "</style>\n",
       "<table border=\"1\" class=\"dataframe\">\n",
       "  <thead>\n",
       "    <tr style=\"text-align: right;\">\n",
       "      <th></th>\n",
       "      <th>faces</th>\n",
       "      <th>weights</th>\n",
       "    </tr>\n",
       "  </thead>\n",
       "  <tbody>\n",
       "    <tr>\n",
       "      <th>A</th>\n",
       "      <td>A</td>\n",
       "      <td>1.0</td>\n",
       "    </tr>\n",
       "    <tr>\n",
       "      <th>B</th>\n",
       "      <td>B</td>\n",
       "      <td>1.0</td>\n",
       "    </tr>\n",
       "    <tr>\n",
       "      <th>C</th>\n",
       "      <td>C</td>\n",
       "      <td>1.0</td>\n",
       "    </tr>\n",
       "    <tr>\n",
       "      <th>D</th>\n",
       "      <td>D</td>\n",
       "      <td>1.0</td>\n",
       "    </tr>\n",
       "    <tr>\n",
       "      <th>E</th>\n",
       "      <td>E</td>\n",
       "      <td>1.0</td>\n",
       "    </tr>\n",
       "    <tr>\n",
       "      <th>F</th>\n",
       "      <td>F</td>\n",
       "      <td>1.0</td>\n",
       "    </tr>\n",
       "    <tr>\n",
       "      <th>G</th>\n",
       "      <td>G</td>\n",
       "      <td>1.0</td>\n",
       "    </tr>\n",
       "    <tr>\n",
       "      <th>H</th>\n",
       "      <td>H</td>\n",
       "      <td>1.0</td>\n",
       "    </tr>\n",
       "    <tr>\n",
       "      <th>I</th>\n",
       "      <td>I</td>\n",
       "      <td>1.0</td>\n",
       "    </tr>\n",
       "    <tr>\n",
       "      <th>J</th>\n",
       "      <td>J</td>\n",
       "      <td>1.0</td>\n",
       "    </tr>\n",
       "    <tr>\n",
       "      <th>K</th>\n",
       "      <td>K</td>\n",
       "      <td>1.0</td>\n",
       "    </tr>\n",
       "    <tr>\n",
       "      <th>L</th>\n",
       "      <td>L</td>\n",
       "      <td>1.0</td>\n",
       "    </tr>\n",
       "    <tr>\n",
       "      <th>M</th>\n",
       "      <td>M</td>\n",
       "      <td>1.0</td>\n",
       "    </tr>\n",
       "    <tr>\n",
       "      <th>N</th>\n",
       "      <td>N</td>\n",
       "      <td>1.0</td>\n",
       "    </tr>\n",
       "    <tr>\n",
       "      <th>O</th>\n",
       "      <td>O</td>\n",
       "      <td>1.0</td>\n",
       "    </tr>\n",
       "    <tr>\n",
       "      <th>P</th>\n",
       "      <td>P</td>\n",
       "      <td>1.0</td>\n",
       "    </tr>\n",
       "    <tr>\n",
       "      <th>Q</th>\n",
       "      <td>Q</td>\n",
       "      <td>1.0</td>\n",
       "    </tr>\n",
       "    <tr>\n",
       "      <th>R</th>\n",
       "      <td>R</td>\n",
       "      <td>1.0</td>\n",
       "    </tr>\n",
       "    <tr>\n",
       "      <th>S</th>\n",
       "      <td>S</td>\n",
       "      <td>1.0</td>\n",
       "    </tr>\n",
       "    <tr>\n",
       "      <th>T</th>\n",
       "      <td>T</td>\n",
       "      <td>1.0</td>\n",
       "    </tr>\n",
       "    <tr>\n",
       "      <th>U</th>\n",
       "      <td>U</td>\n",
       "      <td>1.0</td>\n",
       "    </tr>\n",
       "    <tr>\n",
       "      <th>V</th>\n",
       "      <td>V</td>\n",
       "      <td>1.0</td>\n",
       "    </tr>\n",
       "    <tr>\n",
       "      <th>W</th>\n",
       "      <td>W</td>\n",
       "      <td>1.0</td>\n",
       "    </tr>\n",
       "    <tr>\n",
       "      <th>X</th>\n",
       "      <td>X</td>\n",
       "      <td>1.0</td>\n",
       "    </tr>\n",
       "    <tr>\n",
       "      <th>Y</th>\n",
       "      <td>Y</td>\n",
       "      <td>1.0</td>\n",
       "    </tr>\n",
       "    <tr>\n",
       "      <th>Z</th>\n",
       "      <td>Z</td>\n",
       "      <td>1.0</td>\n",
       "    </tr>\n",
       "  </tbody>\n",
       "</table>\n",
       "</div>"
      ],
      "text/plain": [
       "  faces  weights\n",
       "A     A      1.0\n",
       "B     B      1.0\n",
       "C     C      1.0\n",
       "D     D      1.0\n",
       "E     E      1.0\n",
       "F     F      1.0\n",
       "G     G      1.0\n",
       "H     H      1.0\n",
       "I     I      1.0\n",
       "J     J      1.0\n",
       "K     K      1.0\n",
       "L     L      1.0\n",
       "M     M      1.0\n",
       "N     N      1.0\n",
       "O     O      1.0\n",
       "P     P      1.0\n",
       "Q     Q      1.0\n",
       "R     R      1.0\n",
       "S     S      1.0\n",
       "T     T      1.0\n",
       "U     U      1.0\n",
       "V     V      1.0\n",
       "W     W      1.0\n",
       "X     X      1.0\n",
       "Y     Y      1.0\n",
       "Z     Z      1.0"
      ]
     },
     "execution_count": 95,
     "metadata": {},
     "output_type": "execute_result"
    }
   ],
   "source": [
    "alphabet_die._my_die"
   ]
  },
  {
   "cell_type": "code",
   "execution_count": 96,
   "id": "2e67b4db-7c31-486a-a19d-5c8716576274",
   "metadata": {
    "tags": []
   },
   "outputs": [],
   "source": [
    "for face in faces:\n",
    "    weight = english_letters.get(face,0) \n",
    "    alphabet_die.change_weight(face, weight)"
   ]
  },
  {
   "cell_type": "code",
   "execution_count": 97,
   "id": "dc230299-b5cb-4a4f-a27c-2927b582471c",
   "metadata": {
    "tags": []
   },
   "outputs": [
    {
     "data": {
      "text/html": [
       "<div>\n",
       "<style scoped>\n",
       "    .dataframe tbody tr th:only-of-type {\n",
       "        vertical-align: middle;\n",
       "    }\n",
       "\n",
       "    .dataframe tbody tr th {\n",
       "        vertical-align: top;\n",
       "    }\n",
       "\n",
       "    .dataframe thead th {\n",
       "        text-align: right;\n",
       "    }\n",
       "</style>\n",
       "<table border=\"1\" class=\"dataframe\">\n",
       "  <thead>\n",
       "    <tr style=\"text-align: right;\">\n",
       "      <th></th>\n",
       "      <th>faces</th>\n",
       "      <th>weights</th>\n",
       "    </tr>\n",
       "  </thead>\n",
       "  <tbody>\n",
       "    <tr>\n",
       "      <th>A</th>\n",
       "      <td>A</td>\n",
       "      <td>374061888.0</td>\n",
       "    </tr>\n",
       "    <tr>\n",
       "      <th>B</th>\n",
       "      <td>B</td>\n",
       "      <td>70195826.0</td>\n",
       "    </tr>\n",
       "    <tr>\n",
       "      <th>C</th>\n",
       "      <td>C</td>\n",
       "      <td>138416451.0</td>\n",
       "    </tr>\n",
       "    <tr>\n",
       "      <th>D</th>\n",
       "      <td>D</td>\n",
       "      <td>169330528.0</td>\n",
       "    </tr>\n",
       "    <tr>\n",
       "      <th>E</th>\n",
       "      <td>E</td>\n",
       "      <td>529117365.0</td>\n",
       "    </tr>\n",
       "    <tr>\n",
       "      <th>F</th>\n",
       "      <td>F</td>\n",
       "      <td>95422055.0</td>\n",
       "    </tr>\n",
       "    <tr>\n",
       "      <th>G</th>\n",
       "      <td>G</td>\n",
       "      <td>91258980.0</td>\n",
       "    </tr>\n",
       "    <tr>\n",
       "      <th>H</th>\n",
       "      <td>H</td>\n",
       "      <td>216768975.0</td>\n",
       "    </tr>\n",
       "    <tr>\n",
       "      <th>I</th>\n",
       "      <td>I</td>\n",
       "      <td>320410057.0</td>\n",
       "    </tr>\n",
       "    <tr>\n",
       "      <th>J</th>\n",
       "      <td>J</td>\n",
       "      <td>9613410.0</td>\n",
       "    </tr>\n",
       "    <tr>\n",
       "      <th>K</th>\n",
       "      <td>K</td>\n",
       "      <td>35373464.0</td>\n",
       "    </tr>\n",
       "    <tr>\n",
       "      <th>L</th>\n",
       "      <td>L</td>\n",
       "      <td>183996130.0</td>\n",
       "    </tr>\n",
       "    <tr>\n",
       "      <th>M</th>\n",
       "      <td>M</td>\n",
       "      <td>110504544.0</td>\n",
       "    </tr>\n",
       "    <tr>\n",
       "      <th>N</th>\n",
       "      <td>N</td>\n",
       "      <td>313720540.0</td>\n",
       "    </tr>\n",
       "    <tr>\n",
       "      <th>O</th>\n",
       "      <td>O</td>\n",
       "      <td>326627740.0</td>\n",
       "    </tr>\n",
       "    <tr>\n",
       "      <th>P</th>\n",
       "      <td>P</td>\n",
       "      <td>90376747.0</td>\n",
       "    </tr>\n",
       "    <tr>\n",
       "      <th>Q</th>\n",
       "      <td>Q</td>\n",
       "      <td>4550166.0</td>\n",
       "    </tr>\n",
       "    <tr>\n",
       "      <th>R</th>\n",
       "      <td>R</td>\n",
       "      <td>277000841.0</td>\n",
       "    </tr>\n",
       "    <tr>\n",
       "      <th>S</th>\n",
       "      <td>S</td>\n",
       "      <td>294300210.0</td>\n",
       "    </tr>\n",
       "    <tr>\n",
       "      <th>T</th>\n",
       "      <td>T</td>\n",
       "      <td>390965105.0</td>\n",
       "    </tr>\n",
       "    <tr>\n",
       "      <th>U</th>\n",
       "      <td>U</td>\n",
       "      <td>117295780.0</td>\n",
       "    </tr>\n",
       "    <tr>\n",
       "      <th>V</th>\n",
       "      <td>V</td>\n",
       "      <td>46337161.0</td>\n",
       "    </tr>\n",
       "    <tr>\n",
       "      <th>W</th>\n",
       "      <td>W</td>\n",
       "      <td>79843664.0</td>\n",
       "    </tr>\n",
       "    <tr>\n",
       "      <th>X</th>\n",
       "      <td>X</td>\n",
       "      <td>8369915.0</td>\n",
       "    </tr>\n",
       "    <tr>\n",
       "      <th>Y</th>\n",
       "      <td>Y</td>\n",
       "      <td>75294515.0</td>\n",
       "    </tr>\n",
       "    <tr>\n",
       "      <th>Z</th>\n",
       "      <td>Z</td>\n",
       "      <td>4975847.0</td>\n",
       "    </tr>\n",
       "  </tbody>\n",
       "</table>\n",
       "</div>"
      ],
      "text/plain": [
       "  faces      weights\n",
       "A     A  374061888.0\n",
       "B     B   70195826.0\n",
       "C     C  138416451.0\n",
       "D     D  169330528.0\n",
       "E     E  529117365.0\n",
       "F     F   95422055.0\n",
       "G     G   91258980.0\n",
       "H     H  216768975.0\n",
       "I     I  320410057.0\n",
       "J     J    9613410.0\n",
       "K     K   35373464.0\n",
       "L     L  183996130.0\n",
       "M     M  110504544.0\n",
       "N     N  313720540.0\n",
       "O     O  326627740.0\n",
       "P     P   90376747.0\n",
       "Q     Q    4550166.0\n",
       "R     R  277000841.0\n",
       "S     S  294300210.0\n",
       "T     T  390965105.0\n",
       "U     U  117295780.0\n",
       "V     V   46337161.0\n",
       "W     W   79843664.0\n",
       "X     X    8369915.0\n",
       "Y     Y   75294515.0\n",
       "Z     Z    4975847.0"
      ]
     },
     "execution_count": 97,
     "metadata": {},
     "output_type": "execute_result"
    }
   ],
   "source": [
    "alphabet_die._my_die"
   ]
  },
  {
   "cell_type": "markdown",
   "id": "88e2e14a-6223-470a-a2c8-bca1120d7a5b",
   "metadata": {},
   "source": [
    "Task 2. Play a game involving $4$ of these dice with $1000$ rolls.\n",
    "\n",
    "- Game play method properly called (1)."
   ]
  },
  {
   "cell_type": "code",
   "execution_count": 98,
   "id": "2ae087cc-936d-4f1e-bddb-a7c179d139e0",
   "metadata": {
    "tags": []
   },
   "outputs": [],
   "source": [
    "alphabet_game = Game([alphabet_die, alphabet_die, alphabet_die, alphabet_die])"
   ]
  },
  {
   "cell_type": "code",
   "execution_count": 99,
   "id": "acfff8ec-69dc-4e90-a9b6-b55d2d7bb249",
   "metadata": {
    "tags": []
   },
   "outputs": [],
   "source": [
    "alphabet_game.play(1000)"
   ]
  },
  {
   "cell_type": "code",
   "execution_count": 100,
   "id": "30ef5ca3-8222-427c-9c85-150f2423f7ac",
   "metadata": {
    "tags": []
   },
   "outputs": [
    {
     "data": {
      "text/html": [
       "<div>\n",
       "<style scoped>\n",
       "    .dataframe tbody tr th:only-of-type {\n",
       "        vertical-align: middle;\n",
       "    }\n",
       "\n",
       "    .dataframe tbody tr th {\n",
       "        vertical-align: top;\n",
       "    }\n",
       "\n",
       "    .dataframe thead th {\n",
       "        text-align: right;\n",
       "    }\n",
       "</style>\n",
       "<table border=\"1\" class=\"dataframe\">\n",
       "  <thead>\n",
       "    <tr style=\"text-align: right;\">\n",
       "      <th>die</th>\n",
       "      <th>1</th>\n",
       "      <th>2</th>\n",
       "      <th>3</th>\n",
       "      <th>4</th>\n",
       "    </tr>\n",
       "    <tr>\n",
       "      <th>rolls</th>\n",
       "      <th></th>\n",
       "      <th></th>\n",
       "      <th></th>\n",
       "      <th></th>\n",
       "    </tr>\n",
       "  </thead>\n",
       "  <tbody>\n",
       "    <tr>\n",
       "      <th>1</th>\n",
       "      <td>T</td>\n",
       "      <td>A</td>\n",
       "      <td>A</td>\n",
       "      <td>A</td>\n",
       "    </tr>\n",
       "    <tr>\n",
       "      <th>2</th>\n",
       "      <td>U</td>\n",
       "      <td>D</td>\n",
       "      <td>W</td>\n",
       "      <td>G</td>\n",
       "    </tr>\n",
       "    <tr>\n",
       "      <th>3</th>\n",
       "      <td>O</td>\n",
       "      <td>H</td>\n",
       "      <td>A</td>\n",
       "      <td>N</td>\n",
       "    </tr>\n",
       "    <tr>\n",
       "      <th>4</th>\n",
       "      <td>A</td>\n",
       "      <td>P</td>\n",
       "      <td>T</td>\n",
       "      <td>S</td>\n",
       "    </tr>\n",
       "    <tr>\n",
       "      <th>5</th>\n",
       "      <td>O</td>\n",
       "      <td>T</td>\n",
       "      <td>E</td>\n",
       "      <td>R</td>\n",
       "    </tr>\n",
       "    <tr>\n",
       "      <th>...</th>\n",
       "      <td>...</td>\n",
       "      <td>...</td>\n",
       "      <td>...</td>\n",
       "      <td>...</td>\n",
       "    </tr>\n",
       "    <tr>\n",
       "      <th>996</th>\n",
       "      <td>S</td>\n",
       "      <td>F</td>\n",
       "      <td>N</td>\n",
       "      <td>E</td>\n",
       "    </tr>\n",
       "    <tr>\n",
       "      <th>997</th>\n",
       "      <td>A</td>\n",
       "      <td>T</td>\n",
       "      <td>D</td>\n",
       "      <td>I</td>\n",
       "    </tr>\n",
       "    <tr>\n",
       "      <th>998</th>\n",
       "      <td>A</td>\n",
       "      <td>N</td>\n",
       "      <td>D</td>\n",
       "      <td>D</td>\n",
       "    </tr>\n",
       "    <tr>\n",
       "      <th>999</th>\n",
       "      <td>A</td>\n",
       "      <td>I</td>\n",
       "      <td>R</td>\n",
       "      <td>E</td>\n",
       "    </tr>\n",
       "    <tr>\n",
       "      <th>1000</th>\n",
       "      <td>E</td>\n",
       "      <td>E</td>\n",
       "      <td>E</td>\n",
       "      <td>A</td>\n",
       "    </tr>\n",
       "  </tbody>\n",
       "</table>\n",
       "<p>1000 rows × 4 columns</p>\n",
       "</div>"
      ],
      "text/plain": [
       "die    1  2  3  4\n",
       "rolls            \n",
       "1      T  A  A  A\n",
       "2      U  D  W  G\n",
       "3      O  H  A  N\n",
       "4      A  P  T  S\n",
       "5      O  T  E  R\n",
       "...   .. .. .. ..\n",
       "996    S  F  N  E\n",
       "997    A  T  D  I\n",
       "998    A  N  D  D\n",
       "999    A  I  R  E\n",
       "1000   E  E  E  A\n",
       "\n",
       "[1000 rows x 4 columns]"
      ]
     },
     "execution_count": 100,
     "metadata": {},
     "output_type": "execute_result"
    }
   ],
   "source": [
    "alphabet_game._play_results"
   ]
  },
  {
   "cell_type": "markdown",
   "id": "3b9ff800-bf1f-4f66-9d7f-ff57a648e9f0",
   "metadata": {},
   "source": [
    "Task 3. Determine how many permutations in your results are actual English words, based on the vocabulary found in `scrabble_words.txt`.\n",
    "\n",
    "- Use permutation method (1).\n",
    "- Get count as difference between permutations and vocabulary (1)."
   ]
  },
  {
   "cell_type": "code",
   "execution_count": 63,
   "id": "ed1c7fa0-cfa3-4cf4-9fd0-9f84b86b0f64",
   "metadata": {
    "tags": []
   },
   "outputs": [],
   "source": [
    "alphabet_analyzer = Analyzer(alphabet_game)"
   ]
  },
  {
   "cell_type": "code",
   "execution_count": 64,
   "id": "de0471c9-d78e-4713-9879-a10c74787180",
   "metadata": {
    "tags": []
   },
   "outputs": [
    {
     "data": {
      "text/html": [
       "<div>\n",
       "<style scoped>\n",
       "    .dataframe tbody tr th:only-of-type {\n",
       "        vertical-align: middle;\n",
       "    }\n",
       "\n",
       "    .dataframe tbody tr th {\n",
       "        vertical-align: top;\n",
       "    }\n",
       "\n",
       "    .dataframe thead th {\n",
       "        text-align: right;\n",
       "    }\n",
       "</style>\n",
       "<table border=\"1\" class=\"dataframe\">\n",
       "  <thead>\n",
       "    <tr style=\"text-align: right;\">\n",
       "      <th></th>\n",
       "      <th></th>\n",
       "      <th></th>\n",
       "      <th></th>\n",
       "      <th>Count</th>\n",
       "    </tr>\n",
       "    <tr>\n",
       "      <th>1</th>\n",
       "      <th>2</th>\n",
       "      <th>3</th>\n",
       "      <th>4</th>\n",
       "      <th></th>\n",
       "    </tr>\n",
       "  </thead>\n",
       "  <tbody>\n",
       "    <tr>\n",
       "      <th rowspan=\"10\" valign=\"top\">A</th>\n",
       "      <th rowspan=\"5\" valign=\"top\">A</th>\n",
       "      <th>I</th>\n",
       "      <th>E</th>\n",
       "      <td>1</td>\n",
       "    </tr>\n",
       "    <tr>\n",
       "      <th>K</th>\n",
       "      <th>R</th>\n",
       "      <td>1</td>\n",
       "    </tr>\n",
       "    <tr>\n",
       "      <th>O</th>\n",
       "      <th>S</th>\n",
       "      <td>1</td>\n",
       "    </tr>\n",
       "    <tr>\n",
       "      <th>R</th>\n",
       "      <th>A</th>\n",
       "      <td>1</td>\n",
       "    </tr>\n",
       "    <tr>\n",
       "      <th>S</th>\n",
       "      <th>T</th>\n",
       "      <td>1</td>\n",
       "    </tr>\n",
       "    <tr>\n",
       "      <th>B</th>\n",
       "      <th>T</th>\n",
       "      <th>R</th>\n",
       "      <td>1</td>\n",
       "    </tr>\n",
       "    <tr>\n",
       "      <th rowspan=\"3\" valign=\"top\">C</th>\n",
       "      <th>A</th>\n",
       "      <th>D</th>\n",
       "      <td>1</td>\n",
       "    </tr>\n",
       "    <tr>\n",
       "      <th>E</th>\n",
       "      <th>R</th>\n",
       "      <td>1</td>\n",
       "    </tr>\n",
       "    <tr>\n",
       "      <th>N</th>\n",
       "      <th>I</th>\n",
       "      <td>1</td>\n",
       "    </tr>\n",
       "    <tr>\n",
       "      <th>D</th>\n",
       "      <th>E</th>\n",
       "      <th>C</th>\n",
       "      <td>1</td>\n",
       "    </tr>\n",
       "  </tbody>\n",
       "</table>\n",
       "</div>"
      ],
      "text/plain": [
       "         Count\n",
       "1 2 3 4       \n",
       "A A I E      1\n",
       "    K R      1\n",
       "    O S      1\n",
       "    R A      1\n",
       "    S T      1\n",
       "  B T R      1\n",
       "  C A D      1\n",
       "    E R      1\n",
       "    N I      1\n",
       "  D E C      1"
      ]
     },
     "execution_count": 64,
     "metadata": {},
     "output_type": "execute_result"
    }
   ],
   "source": [
    "permutations = alphabet_analyzer.permutation_count()\n",
    "permutations.head(10)"
   ]
  },
  {
   "cell_type": "code",
   "execution_count": 65,
   "id": "29f88809-b7c8-4edf-ace3-ca316db505e6",
   "metadata": {
    "tags": []
   },
   "outputs": [
    {
     "data": {
      "text/plain": [
       "[('A', 'A', 'I', 'E'),\n",
       " ('A', 'A', 'K', 'R'),\n",
       " ('A', 'A', 'O', 'S'),\n",
       " ('A', 'A', 'R', 'A'),\n",
       " ('A', 'A', 'S', 'T'),\n",
       " ('A', 'B', 'T', 'R'),\n",
       " ('A', 'C', 'A', 'D'),\n",
       " ('A', 'C', 'E', 'R'),\n",
       " ('A', 'C', 'N', 'I'),\n",
       " ('A', 'D', 'E', 'C')]"
      ]
     },
     "execution_count": 65,
     "metadata": {},
     "output_type": "execute_result"
    }
   ],
   "source": [
    "perm_tuples = [tuple(i) for i in permutations.index]         #convert the permutation combinations into tuples\n",
    "perm_tuples[:10]"
   ]
  },
  {
   "cell_type": "code",
   "execution_count": 66,
   "id": "eba2044a-89db-42b1-882c-2d3e6af67d9d",
   "metadata": {
    "tags": []
   },
   "outputs": [
    {
     "data": {
      "text/plain": [
       "['AAIE',\n",
       " 'AAKR',\n",
       " 'AAOS',\n",
       " 'AARA',\n",
       " 'AAST',\n",
       " 'ABTR',\n",
       " 'ACAD',\n",
       " 'ACER',\n",
       " 'ACNI',\n",
       " 'ADEC']"
      ]
     },
     "execution_count": 66,
     "metadata": {},
     "output_type": "execute_result"
    }
   ],
   "source": [
    "perm_list = []                    \n",
    "for letter in perm_tuples:\n",
    "    perm_list.append(''.join(letter))\n",
    "\n",
    "perm_list[:10]"
   ]
  },
  {
   "cell_type": "code",
   "execution_count": 67,
   "id": "f3c2dd9a-8b05-47c3-b454-42a16b164d46",
   "metadata": {
    "tags": []
   },
   "outputs": [
    {
     "data": {
      "text/plain": [
       "['AA',\n",
       " 'AAH',\n",
       " 'AAHED',\n",
       " 'AAHING',\n",
       " 'AAHS',\n",
       " 'AAL',\n",
       " 'AALII',\n",
       " 'AALIIS',\n",
       " 'AALS',\n",
       " 'AARDVARK']"
      ]
     },
     "execution_count": 67,
     "metadata": {},
     "output_type": "execute_result"
    }
   ],
   "source": [
    "scrabble_file = open('scrabble_words.txt', 'r')\n",
    "scrabble_words = [line for line in scrabble_file.read().strip().split()]\n",
    "scrabble_words[:10]"
   ]
  },
  {
   "cell_type": "code",
   "execution_count": 70,
   "id": "2ee55a41-c99e-4ed4-8d21-9eea6d73f84c",
   "metadata": {
    "tags": []
   },
   "outputs": [],
   "source": [
    "actual_words = []\n",
    "for word in perm_list:\n",
    "    if word in scrabble_words:\n",
    "        actual_words.append(word)"
   ]
  },
  {
   "cell_type": "code",
   "execution_count": 72,
   "id": "79292171-8e67-44ac-8194-58da8aca3858",
   "metadata": {
    "tags": []
   },
   "outputs": [
    {
     "data": {
      "text/plain": [
       "['ACER',\n",
       " 'AERO',\n",
       " 'AIDE',\n",
       " 'ASEA',\n",
       " 'BUDO',\n",
       " 'COSH',\n",
       " 'ECCO',\n",
       " 'EISH',\n",
       " 'ETAS',\n",
       " 'GENU']"
      ]
     },
     "execution_count": 72,
     "metadata": {},
     "output_type": "execute_result"
    }
   ],
   "source": [
    "actual_words[:10]"
   ]
  },
  {
   "cell_type": "code",
   "execution_count": 101,
   "id": "1e7b14e8-d4ed-4e37-b02d-86e510ceb75f",
   "metadata": {
    "tags": []
   },
   "outputs": [
    {
     "name": "stdout",
     "output_type": "stream",
     "text": [
      "Difference between permutations and vocabulary is: 942\n"
     ]
    }
   ],
   "source": [
    "count = len(permutations) - len(actual_words)\n",
    "print('Difference between permutations and vocabulary is:',count)"
   ]
  },
  {
   "cell_type": "markdown",
   "id": "fcf068cf-381a-4b3e-ac3a-0510eb4dbdb0",
   "metadata": {},
   "source": [
    "Task 4. Repeat steps #2 and #3, this time with $5$ dice. How many actual words does this produce? Which produces more?\n",
    "\n",
    "- Successfully repreats steps (1).\n",
    "- Identifies parameter with most found words (1)."
   ]
  },
  {
   "cell_type": "code",
   "execution_count": 77,
   "id": "8d947ccb-1c2f-46eb-af51-e7248f6c9afe",
   "metadata": {
    "tags": []
   },
   "outputs": [],
   "source": [
    "alphabet_game_5 = Game([alphabet_die, alphabet_die, alphabet_die , alphabet_die, alphabet_die])\n",
    "alphabet_game_5.play(1000)"
   ]
  },
  {
   "cell_type": "code",
   "execution_count": 78,
   "id": "c6c451bd-e23d-4a6f-a66c-2f91b09917d3",
   "metadata": {
    "tags": []
   },
   "outputs": [
    {
     "data": {
      "text/html": [
       "<div>\n",
       "<style scoped>\n",
       "    .dataframe tbody tr th:only-of-type {\n",
       "        vertical-align: middle;\n",
       "    }\n",
       "\n",
       "    .dataframe tbody tr th {\n",
       "        vertical-align: top;\n",
       "    }\n",
       "\n",
       "    .dataframe thead th {\n",
       "        text-align: right;\n",
       "    }\n",
       "</style>\n",
       "<table border=\"1\" class=\"dataframe\">\n",
       "  <thead>\n",
       "    <tr style=\"text-align: right;\">\n",
       "      <th>die</th>\n",
       "      <th>1</th>\n",
       "      <th>2</th>\n",
       "      <th>3</th>\n",
       "      <th>4</th>\n",
       "      <th>5</th>\n",
       "    </tr>\n",
       "    <tr>\n",
       "      <th>rolls</th>\n",
       "      <th></th>\n",
       "      <th></th>\n",
       "      <th></th>\n",
       "      <th></th>\n",
       "      <th></th>\n",
       "    </tr>\n",
       "  </thead>\n",
       "  <tbody>\n",
       "    <tr>\n",
       "      <th>1</th>\n",
       "      <td>P</td>\n",
       "      <td>F</td>\n",
       "      <td>E</td>\n",
       "      <td>A</td>\n",
       "      <td>E</td>\n",
       "    </tr>\n",
       "    <tr>\n",
       "      <th>2</th>\n",
       "      <td>L</td>\n",
       "      <td>O</td>\n",
       "      <td>E</td>\n",
       "      <td>T</td>\n",
       "      <td>T</td>\n",
       "    </tr>\n",
       "    <tr>\n",
       "      <th>3</th>\n",
       "      <td>D</td>\n",
       "      <td>N</td>\n",
       "      <td>S</td>\n",
       "      <td>Y</td>\n",
       "      <td>H</td>\n",
       "    </tr>\n",
       "    <tr>\n",
       "      <th>4</th>\n",
       "      <td>C</td>\n",
       "      <td>A</td>\n",
       "      <td>T</td>\n",
       "      <td>I</td>\n",
       "      <td>L</td>\n",
       "    </tr>\n",
       "    <tr>\n",
       "      <th>5</th>\n",
       "      <td>R</td>\n",
       "      <td>D</td>\n",
       "      <td>C</td>\n",
       "      <td>O</td>\n",
       "      <td>I</td>\n",
       "    </tr>\n",
       "    <tr>\n",
       "      <th>...</th>\n",
       "      <td>...</td>\n",
       "      <td>...</td>\n",
       "      <td>...</td>\n",
       "      <td>...</td>\n",
       "      <td>...</td>\n",
       "    </tr>\n",
       "    <tr>\n",
       "      <th>996</th>\n",
       "      <td>S</td>\n",
       "      <td>E</td>\n",
       "      <td>O</td>\n",
       "      <td>D</td>\n",
       "      <td>O</td>\n",
       "    </tr>\n",
       "    <tr>\n",
       "      <th>997</th>\n",
       "      <td>R</td>\n",
       "      <td>H</td>\n",
       "      <td>C</td>\n",
       "      <td>E</td>\n",
       "      <td>C</td>\n",
       "    </tr>\n",
       "    <tr>\n",
       "      <th>998</th>\n",
       "      <td>H</td>\n",
       "      <td>S</td>\n",
       "      <td>O</td>\n",
       "      <td>H</td>\n",
       "      <td>R</td>\n",
       "    </tr>\n",
       "    <tr>\n",
       "      <th>999</th>\n",
       "      <td>A</td>\n",
       "      <td>S</td>\n",
       "      <td>F</td>\n",
       "      <td>S</td>\n",
       "      <td>O</td>\n",
       "    </tr>\n",
       "    <tr>\n",
       "      <th>1000</th>\n",
       "      <td>R</td>\n",
       "      <td>I</td>\n",
       "      <td>H</td>\n",
       "      <td>E</td>\n",
       "      <td>Y</td>\n",
       "    </tr>\n",
       "  </tbody>\n",
       "</table>\n",
       "<p>1000 rows × 5 columns</p>\n",
       "</div>"
      ],
      "text/plain": [
       "die    1  2  3  4  5\n",
       "rolls               \n",
       "1      P  F  E  A  E\n",
       "2      L  O  E  T  T\n",
       "3      D  N  S  Y  H\n",
       "4      C  A  T  I  L\n",
       "5      R  D  C  O  I\n",
       "...   .. .. .. .. ..\n",
       "996    S  E  O  D  O\n",
       "997    R  H  C  E  C\n",
       "998    H  S  O  H  R\n",
       "999    A  S  F  S  O\n",
       "1000   R  I  H  E  Y\n",
       "\n",
       "[1000 rows x 5 columns]"
      ]
     },
     "execution_count": 78,
     "metadata": {},
     "output_type": "execute_result"
    }
   ],
   "source": [
    "alphabet_game_5._play_results"
   ]
  },
  {
   "cell_type": "code",
   "execution_count": 79,
   "id": "abe6d432-b777-4f86-bd4e-9791efa0cb1d",
   "metadata": {
    "tags": []
   },
   "outputs": [],
   "source": [
    "alphabet_analyzer_5 = Analyzer(alphabet_game_5)"
   ]
  },
  {
   "cell_type": "code",
   "execution_count": 80,
   "id": "9a3bf401-fe24-4e0b-9bb9-10e21cd02de7",
   "metadata": {
    "tags": []
   },
   "outputs": [
    {
     "data": {
      "text/html": [
       "<div>\n",
       "<style scoped>\n",
       "    .dataframe tbody tr th:only-of-type {\n",
       "        vertical-align: middle;\n",
       "    }\n",
       "\n",
       "    .dataframe tbody tr th {\n",
       "        vertical-align: top;\n",
       "    }\n",
       "\n",
       "    .dataframe thead th {\n",
       "        text-align: right;\n",
       "    }\n",
       "</style>\n",
       "<table border=\"1\" class=\"dataframe\">\n",
       "  <thead>\n",
       "    <tr style=\"text-align: right;\">\n",
       "      <th></th>\n",
       "      <th></th>\n",
       "      <th></th>\n",
       "      <th></th>\n",
       "      <th></th>\n",
       "      <th>Count</th>\n",
       "    </tr>\n",
       "    <tr>\n",
       "      <th>1</th>\n",
       "      <th>2</th>\n",
       "      <th>3</th>\n",
       "      <th>4</th>\n",
       "      <th>5</th>\n",
       "      <th></th>\n",
       "    </tr>\n",
       "  </thead>\n",
       "  <tbody>\n",
       "    <tr>\n",
       "      <th rowspan=\"10\" valign=\"top\">A</th>\n",
       "      <th rowspan=\"10\" valign=\"top\">A</th>\n",
       "      <th>A</th>\n",
       "      <th>P</th>\n",
       "      <th>M</th>\n",
       "      <td>1</td>\n",
       "    </tr>\n",
       "    <tr>\n",
       "      <th rowspan=\"2\" valign=\"top\">B</th>\n",
       "      <th>B</th>\n",
       "      <th>R</th>\n",
       "      <td>1</td>\n",
       "    </tr>\n",
       "    <tr>\n",
       "      <th>S</th>\n",
       "      <th>O</th>\n",
       "      <td>1</td>\n",
       "    </tr>\n",
       "    <tr>\n",
       "      <th>C</th>\n",
       "      <th>I</th>\n",
       "      <th>N</th>\n",
       "      <td>1</td>\n",
       "    </tr>\n",
       "    <tr>\n",
       "      <th rowspan=\"2\" valign=\"top\">D</th>\n",
       "      <th>E</th>\n",
       "      <th>L</th>\n",
       "      <td>1</td>\n",
       "    </tr>\n",
       "    <tr>\n",
       "      <th>I</th>\n",
       "      <th>E</th>\n",
       "      <td>1</td>\n",
       "    </tr>\n",
       "    <tr>\n",
       "      <th>E</th>\n",
       "      <th>F</th>\n",
       "      <th>E</th>\n",
       "      <td>1</td>\n",
       "    </tr>\n",
       "    <tr>\n",
       "      <th>G</th>\n",
       "      <th>R</th>\n",
       "      <th>M</th>\n",
       "      <td>1</td>\n",
       "    </tr>\n",
       "    <tr>\n",
       "      <th rowspan=\"2\" valign=\"top\">I</th>\n",
       "      <th>H</th>\n",
       "      <th>T</th>\n",
       "      <td>1</td>\n",
       "    </tr>\n",
       "    <tr>\n",
       "      <th>T</th>\n",
       "      <th>A</th>\n",
       "      <td>1</td>\n",
       "    </tr>\n",
       "  </tbody>\n",
       "</table>\n",
       "</div>"
      ],
      "text/plain": [
       "           Count\n",
       "1 2 3 4 5       \n",
       "A A A P M      1\n",
       "    B B R      1\n",
       "      S O      1\n",
       "    C I N      1\n",
       "    D E L      1\n",
       "      I E      1\n",
       "    E F E      1\n",
       "    G R M      1\n",
       "    I H T      1\n",
       "      T A      1"
      ]
     },
     "execution_count": 80,
     "metadata": {},
     "output_type": "execute_result"
    }
   ],
   "source": [
    "permutations_5 = alphabet_analyzer_5.permutation_count()\n",
    "permutations_5.head(10)"
   ]
  },
  {
   "cell_type": "code",
   "execution_count": 81,
   "id": "351f51d4-095f-4aef-89eb-76d37bbbcab1",
   "metadata": {
    "tags": []
   },
   "outputs": [
    {
     "data": {
      "text/plain": [
       "[('A', 'A', 'A', 'P', 'M'),\n",
       " ('A', 'A', 'B', 'B', 'R'),\n",
       " ('A', 'A', 'B', 'S', 'O'),\n",
       " ('A', 'A', 'C', 'I', 'N'),\n",
       " ('A', 'A', 'D', 'E', 'L'),\n",
       " ('A', 'A', 'D', 'I', 'E'),\n",
       " ('A', 'A', 'E', 'F', 'E'),\n",
       " ('A', 'A', 'G', 'R', 'M'),\n",
       " ('A', 'A', 'I', 'H', 'T'),\n",
       " ('A', 'A', 'I', 'T', 'A')]"
      ]
     },
     "execution_count": 81,
     "metadata": {},
     "output_type": "execute_result"
    }
   ],
   "source": [
    "perm_tuples_5 = [tuple(i) for i in permutations_5.index]         \n",
    "perm_tuples_5[:10]"
   ]
  },
  {
   "cell_type": "code",
   "execution_count": 82,
   "id": "48cf8048-80f8-430d-912e-ad676f5ddbda",
   "metadata": {
    "tags": []
   },
   "outputs": [
    {
     "data": {
      "text/plain": [
       "['AAAPM',\n",
       " 'AABBR',\n",
       " 'AABSO',\n",
       " 'AACIN',\n",
       " 'AADEL',\n",
       " 'AADIE',\n",
       " 'AAEFE',\n",
       " 'AAGRM',\n",
       " 'AAIHT',\n",
       " 'AAITA']"
      ]
     },
     "execution_count": 82,
     "metadata": {},
     "output_type": "execute_result"
    }
   ],
   "source": [
    "perm_list_5 = []\n",
    "for letter in perm_tuples_5:\n",
    "    perm_list_5.append(''.join(letter))\n",
    "    \n",
    "perm_list_5[:10]"
   ]
  },
  {
   "cell_type": "code",
   "execution_count": 83,
   "id": "c448d54e-a770-42ff-a690-d9b3c00ea349",
   "metadata": {
    "tags": []
   },
   "outputs": [
    {
     "data": {
      "text/plain": [
       "['AA',\n",
       " 'AAH',\n",
       " 'AAHED',\n",
       " 'AAHING',\n",
       " 'AAHS',\n",
       " 'AAL',\n",
       " 'AALII',\n",
       " 'AALIIS',\n",
       " 'AALS',\n",
       " 'AARDVARK']"
      ]
     },
     "execution_count": 83,
     "metadata": {},
     "output_type": "execute_result"
    }
   ],
   "source": [
    "scrabble_file = open('scrabble_words.txt', 'r')\n",
    "scrabble_words = [line for line in scrabble_file.read().strip().split()]\n",
    "scrabble_words[:10]"
   ]
  },
  {
   "cell_type": "code",
   "execution_count": 84,
   "id": "752005cd-9ad6-4325-836e-eebe95e8e094",
   "metadata": {
    "tags": []
   },
   "outputs": [],
   "source": [
    "actual_words_5 = []\n",
    "for word in perm_list_5:\n",
    "    if word in scrabble_words:\n",
    "        actual_words_5.append(word)"
   ]
  },
  {
   "cell_type": "code",
   "execution_count": 85,
   "id": "fa5deb50-5286-4406-9192-c7011c85917d",
   "metadata": {
    "tags": []
   },
   "outputs": [
    {
     "data": {
      "text/plain": [
       "['BLIVE', 'BOTEL', 'EROSE', 'GENES', 'HADAL', 'ORIEL', 'STEAN', 'WESTS']"
      ]
     },
     "execution_count": 85,
     "metadata": {},
     "output_type": "execute_result"
    }
   ],
   "source": [
    "actual_words_5[:10]"
   ]
  },
  {
   "cell_type": "code",
   "execution_count": 102,
   "id": "ab6bda50-8dd1-4689-bae9-6e29624c5851",
   "metadata": {
    "tags": []
   },
   "outputs": [
    {
     "name": "stdout",
     "output_type": "stream",
     "text": [
      "This produces 8 actual words\n"
     ]
    }
   ],
   "source": [
    "print(f'This produces {len(actual_words_5)} actual words')"
   ]
  },
  {
   "cell_type": "code",
   "execution_count": 108,
   "id": "92fbef2f-ffb9-4f3b-a671-4fd1aff0491d",
   "metadata": {
    "tags": []
   },
   "outputs": [
    {
     "name": "stdout",
     "output_type": "stream",
     "text": [
      "The model in this Task 4 produces 51 actual words\n"
     ]
    }
   ],
   "source": [
    "print(f'The model in this Task 4 produces {len(actual_words)} actual words')"
   ]
  },
  {
   "cell_type": "code",
   "execution_count": 109,
   "id": "4d6d55a5-d1cd-4322-b2ae-926c2a553a93",
   "metadata": {
    "tags": []
   },
   "outputs": [
    {
     "name": "stdout",
     "output_type": "stream",
     "text": [
      "The game in Task 2 & 3  with 4 dices produces 43 more words than the game in this Task 4 with 5 dices\n"
     ]
    }
   ],
   "source": [
    "if len(actual_words) > len(actual_words_5):\n",
    "    print(f'The game in Task 2 & 3  with 4 dices produces {len(actual_words) - len(actual_words_5)} more words than the game in this Task 4 with 5 dices')\n",
    "else:\n",
    "    print(f'The game in this Task 4 with 5 dices produces {len(actual_words_5) - len(actual_words)} more words than the game in Task 2 & 3 with 4 dices')\n",
    "        \n",
    "                "
   ]
  },
  {
   "cell_type": "code",
   "execution_count": null,
   "id": "4d490fbf-61f6-4d8b-960e-b1c6989e21aa",
   "metadata": {},
   "outputs": [],
   "source": []
  }
 ],
 "metadata": {
  "kernelspec": {
   "display_name": "Python 3 (ipykernel)",
   "language": "python",
   "name": "python3"
  },
  "language_info": {
   "codemirror_mode": {
    "name": "ipython",
    "version": 3
   },
   "file_extension": ".py",
   "mimetype": "text/x-python",
   "name": "python",
   "nbconvert_exporter": "python",
   "pygments_lexer": "ipython3",
   "version": "3.11.4"
  },
  "toc-autonumbering": true,
  "widgets": {
   "application/vnd.jupyter.widget-state+json": {
    "state": {},
    "version_major": 2,
    "version_minor": 0
   }
  }
 },
 "nbformat": 4,
 "nbformat_minor": 5
}
